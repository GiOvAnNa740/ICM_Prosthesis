{
 "cells": [
  {
   "cell_type": "code",
   "execution_count": 1,
   "metadata": {},
   "outputs": [],
   "source": [
    "# imports\n",
    "\n",
    "import numpy as np\n",
    "import pandas as pd\n",
    "import os\n",
    "import tensorflow as tf\n",
    "\n",
    "from tqdm import tqdm\n",
    "from sklearn.model_selection import train_test_split\n",
    "from sklearn.linear_model import LinearRegression\n",
    "from sklearn import metrics\n",
    "from sklearn import svm\n",
    "from sklearn import preprocessing\n",
    "from sklearn.metrics import classification_report\n",
    "from sklearn.metrics import confusion_matrix\n",
    "from tensorflow import keras"
   ]
  },
  {
   "attachments": {},
   "cell_type": "markdown",
   "metadata": {},
   "source": [
    "Import and Preprocess"
   ]
  },
  {
   "cell_type": "code",
   "execution_count": 39,
   "metadata": {},
   "outputs": [],
   "source": [
    "df1=pd.read_csv('Dados_Emotiv/7_AÇÃO_abrir_mão_PENSAMENTO.csv')\n",
    "df2=pd.read_csv('Dados_Emotiv/8_AÇÃO_abrir_mão_PENSAMENTOORIENTADO.csv')\n",
    "df3=pd.read_csv('Dados_Emotiv/9_AÇÃO_fechar_mão_PENSAMENTO.csv')\n",
    "df4=pd.read_csv('Dados_Emotiv/10_AÇÃO_fechar_mão_PENSAMENTOORIENTADO.csv')"
   ]
  },
  {
   "cell_type": "code",
   "execution_count": 40,
   "metadata": {},
   "outputs": [],
   "source": [
    "#concatenating the datasets and reseting the indexes\n",
    "\n",
    "df_open=pd.concat([df1, df2], ignore_index=True)\n",
    "\n",
    "df_close=pd.concat([df3, df4], ignore_index=True)"
   ]
  },
  {
   "cell_type": "code",
   "execution_count": 41,
   "metadata": {},
   "outputs": [],
   "source": [
    "#Action \"open hand\" = 1\n",
    "\n",
    "df_open['Action']=1\n",
    "\n",
    "\n",
    "#Action \"close hand\" = 2\n",
    "\n",
    "df_close['Action']=2\n"
   ]
  },
  {
   "cell_type": "code",
   "execution_count": 42,
   "metadata": {},
   "outputs": [],
   "source": [
    "df=pd.concat([df_open, df_close], ignore_index=True)"
   ]
  },
  {
   "cell_type": "code",
   "execution_count": 43,
   "metadata": {},
   "outputs": [
    {
     "name": "stdout",
     "output_type": "stream",
     "text": [
      "                AF3           T7           Pz           T8          AF4  \\\n",
      "0       4272.179487  4206.025641  4139.487179  4076.794871  4205.384615   \n",
      "1       4268.589744  4207.692308  4139.487179  4075.000000  4203.974359   \n",
      "2       4272.051282  4235.128205  4143.205128  4102.820513  4205.641026   \n",
      "3       4269.487180  4208.076923  4140.256410  4102.948718  4206.025641   \n",
      "4       4268.846154  4207.820513  4135.512820  4075.897436  4204.743590   \n",
      "...             ...          ...          ...          ...          ...   \n",
      "153595  4268.974359  4301.666667  4143.333333  4107.820513  4335.128205   \n",
      "153596  4239.487179  4299.615385  4139.743590  4105.512820  4334.615385   \n",
      "153597  4266.666667  4241.794872  4138.205128  4106.153846  4332.692308   \n",
      "153598  4299.487180  4241.538462  4140.769231  4108.589743  4332.948718   \n",
      "153599  4299.871795  4270.769231  4141.794872  4109.615384  4335.641026   \n",
      "\n",
      "        Action  \n",
      "0            1  \n",
      "1            1  \n",
      "2            1  \n",
      "3            1  \n",
      "4            1  \n",
      "...        ...  \n",
      "153595       2  \n",
      "153596       2  \n",
      "153597       2  \n",
      "153598       2  \n",
      "153599       2  \n",
      "\n",
      "[153600 rows x 6 columns]\n"
     ]
    }
   ],
   "source": [
    "print(df)\n",
    "\n",
    "df.to_csv('df_emotiv.csv') "
   ]
  },
  {
   "cell_type": "code",
   "execution_count": 2,
   "metadata": {},
   "outputs": [],
   "source": [
    "df=pd.read_csv('df_emotiv.csv')"
   ]
  },
  {
   "cell_type": "code",
   "execution_count": 3,
   "metadata": {},
   "outputs": [],
   "source": [
    "df.columns\n",
    "\n",
    "column_names=['AF3', ' T7', ' Pz', ' T8', ' AF4']\n",
    "all_columns=['AF3', ' T7', ' Pz', ' T8', ' AF4', 'Action']"
   ]
  },
  {
   "attachments": {},
   "cell_type": "markdown",
   "metadata": {},
   "source": [
    "Data Normalization"
   ]
  },
  {
   "cell_type": "code",
   "execution_count": 4,
   "metadata": {},
   "outputs": [
    {
     "data": {
      "text/html": [
       "<div>\n",
       "<style scoped>\n",
       "    .dataframe tbody tr th:only-of-type {\n",
       "        vertical-align: middle;\n",
       "    }\n",
       "\n",
       "    .dataframe tbody tr th {\n",
       "        vertical-align: top;\n",
       "    }\n",
       "\n",
       "    .dataframe thead th {\n",
       "        text-align: right;\n",
       "    }\n",
       "</style>\n",
       "<table border=\"1\" class=\"dataframe\">\n",
       "  <thead>\n",
       "    <tr style=\"text-align: right;\">\n",
       "      <th></th>\n",
       "      <th>AF3</th>\n",
       "      <th>T7</th>\n",
       "      <th>Pz</th>\n",
       "      <th>T8</th>\n",
       "      <th>AF4</th>\n",
       "      <th>Action</th>\n",
       "    </tr>\n",
       "  </thead>\n",
       "  <tbody>\n",
       "    <tr>\n",
       "      <th>0</th>\n",
       "      <td>0.002560</td>\n",
       "      <td>0.002532</td>\n",
       "      <td>0.002571</td>\n",
       "      <td>0.002550</td>\n",
       "      <td>0.002543</td>\n",
       "      <td>1</td>\n",
       "    </tr>\n",
       "    <tr>\n",
       "      <th>1</th>\n",
       "      <td>0.002558</td>\n",
       "      <td>0.002533</td>\n",
       "      <td>0.002571</td>\n",
       "      <td>0.002548</td>\n",
       "      <td>0.002542</td>\n",
       "      <td>1</td>\n",
       "    </tr>\n",
       "    <tr>\n",
       "      <th>2</th>\n",
       "      <td>0.002560</td>\n",
       "      <td>0.002549</td>\n",
       "      <td>0.002573</td>\n",
       "      <td>0.002566</td>\n",
       "      <td>0.002543</td>\n",
       "      <td>1</td>\n",
       "    </tr>\n",
       "    <tr>\n",
       "      <th>3</th>\n",
       "      <td>0.002558</td>\n",
       "      <td>0.002533</td>\n",
       "      <td>0.002572</td>\n",
       "      <td>0.002566</td>\n",
       "      <td>0.002544</td>\n",
       "      <td>1</td>\n",
       "    </tr>\n",
       "    <tr>\n",
       "      <th>4</th>\n",
       "      <td>0.002558</td>\n",
       "      <td>0.002533</td>\n",
       "      <td>0.002569</td>\n",
       "      <td>0.002549</td>\n",
       "      <td>0.002543</td>\n",
       "      <td>1</td>\n",
       "    </tr>\n",
       "  </tbody>\n",
       "</table>\n",
       "</div>"
      ],
      "text/plain": [
       "        AF3        T7        Pz        T8       AF4  Action\n",
       "0  0.002560  0.002532  0.002571  0.002550  0.002543       1\n",
       "1  0.002558  0.002533  0.002571  0.002548  0.002542       1\n",
       "2  0.002560  0.002549  0.002573  0.002566  0.002543       1\n",
       "3  0.002558  0.002533  0.002572  0.002566  0.002544       1\n",
       "4  0.002558  0.002533  0.002569  0.002549  0.002543       1"
      ]
     },
     "execution_count": 4,
     "metadata": {},
     "output_type": "execute_result"
    }
   ],
   "source": [
    "df[column_names] = preprocessing.normalize(df[column_names], axis=0)\n",
    "df = pd.DataFrame(df, columns=all_columns)\n",
    "df.head()"
   ]
  },
  {
   "cell_type": "code",
   "execution_count": 7,
   "metadata": {},
   "outputs": [],
   "source": [
    "df.to_csv('df_emotiv_normalized.csv')"
   ]
  },
  {
   "attachments": {},
   "cell_type": "markdown",
   "metadata": {},
   "source": [
    "Creating training and testing sets"
   ]
  },
  {
   "cell_type": "code",
   "execution_count": 5,
   "metadata": {},
   "outputs": [],
   "source": [
    "x=df[['AF3', ' T7', ' Pz', ' T8', ' AF4']]\n",
    "y=df['Action']"
   ]
  },
  {
   "cell_type": "code",
   "execution_count": 6,
   "metadata": {},
   "outputs": [],
   "source": [
    "x_train, x_test, y_train, y_test = train_test_split(x,y,test_size=0.2,random_state=42)"
   ]
  },
  {
   "attachments": {},
   "cell_type": "markdown",
   "metadata": {},
   "source": [
    "SVM"
   ]
  },
  {
   "cell_type": "code",
   "execution_count": 7,
   "metadata": {},
   "outputs": [],
   "source": [
    "modelSVM=svm.SVC()\n",
    "modelSVM.fit(x_train,y_train)\n",
    "predictSVM = modelSVM.predict(x_test)"
   ]
  },
  {
   "attachments": {},
   "cell_type": "markdown",
   "metadata": {},
   "source": [
    "Scores"
   ]
  },
  {
   "cell_type": "code",
   "execution_count": 8,
   "metadata": {},
   "outputs": [
    {
     "data": {
      "text/plain": [
       "69.51497395833334"
      ]
     },
     "execution_count": 8,
     "metadata": {},
     "output_type": "execute_result"
    }
   ],
   "source": [
    "modelSVM.score(x_test,y_test)*100"
   ]
  },
  {
   "cell_type": "code",
   "execution_count": 9,
   "metadata": {},
   "outputs": [
    {
     "name": "stdout",
     "output_type": "stream",
     "text": [
      "              precision    recall  f1-score   support\n",
      "\n",
      "           1       0.74      0.59      0.66     15174\n",
      "           2       0.66      0.80      0.73     15546\n",
      "\n",
      "    accuracy                           0.70     30720\n",
      "   macro avg       0.70      0.69      0.69     30720\n",
      "weighted avg       0.70      0.70      0.69     30720\n",
      "\n"
     ]
    }
   ],
   "source": [
    "print(classification_report(y_test,predictSVM))"
   ]
  },
  {
   "cell_type": "code",
   "execution_count": 11,
   "metadata": {},
   "outputs": [
    {
     "name": "stdout",
     "output_type": "stream",
     "text": [
      "\n",
      "Matriz de Confusão\n",
      " Predito      1      2  Todos\n",
      "Real                        \n",
      "1         8897   6277  15174\n",
      "2         3088  12458  15546\n",
      "Todos    11985  18735  30720\n"
     ]
    }
   ],
   "source": [
    "print(\"\\nMatriz de Confusão\\r\\n\",\n",
    "pd.crosstab(y_test,predictSVM,rownames=['Real'],colnames=['Predito'], margins=True, margins_name='Todos'))\n",
    "dic_SVM=metrics.classification_report(y_test,predictSVM,target_names=['1','2'], output_dict=True)"
   ]
  }
 ],
 "metadata": {
  "kernelspec": {
   "display_name": "Python 3",
   "language": "python",
   "name": "python3"
  },
  "language_info": {
   "codemirror_mode": {
    "name": "ipython",
    "version": 3
   },
   "file_extension": ".py",
   "mimetype": "text/x-python",
   "name": "python",
   "nbconvert_exporter": "python",
   "pygments_lexer": "ipython3",
   "version": "3.9.13"
  },
  "orig_nbformat": 4,
  "vscode": {
   "interpreter": {
    "hash": "ea6e64f2409e8d1aad035b517afa5d7288b59435ef8e27ec4a88ca9998af4977"
   }
  }
 },
 "nbformat": 4,
 "nbformat_minor": 2
}

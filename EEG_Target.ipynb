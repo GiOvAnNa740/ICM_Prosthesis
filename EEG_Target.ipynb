{
 "cells": [
  {
   "cell_type": "code",
   "execution_count": 2,
   "metadata": {},
   "outputs": [],
   "source": [
    "# imports\n",
    "#python3 -m pip install --upgrade example\n",
    "\n",
    "import numpy as np\n",
    "import pandas as pd\n",
    "import os\n",
    "from tqdm import tqdm\n",
    "from sklearn.model_selection import train_test_split\n",
    "from sklearn.linear_model import LinearRegression\n",
    "from sklearn import metrics\n",
    "from sklearn import svm\n",
    "from sklearn import preprocessing\n",
    "from sklearn.metrics import classification_report\n",
    "from sklearn.metrics import confusion_matrix\n",
    "\n",
    "%matplotlib inline"
   ]
  },
  {
   "cell_type": "code",
   "execution_count": 3,
   "metadata": {},
   "outputs": [],
   "source": [
    "df= pd.read_csv('normalized_EEG')"
   ]
  },
  {
   "cell_type": "code",
   "execution_count": 7,
   "metadata": {},
   "outputs": [
    {
     "data": {
      "text/plain": [
       "Index(['Unnamed: 0', 'Class', 'AF3 beta std', 'AF3 beta m', 'F7 beta std',\n",
       "       'F7 beta m', 'F3 beta std', 'F3 beta m', 'FC5 beta std', 'FC5 beta m',\n",
       "       'T7 beta std', 'T7 beta m', 'P7 beta std', 'P7 beta m', 'O1 beta std',\n",
       "       'O1 beta m', 'O2 beta std', 'O2 beta m', 'P8 beta std', 'P8 beta m',\n",
       "       'T8 beta std', 'T8 beta m', 'FC6 beta std', 'FC6 beta m', 'F4 beta std',\n",
       "       'F4 beta m', 'F8 beta std', 'F8 beta m', 'AF4 beta std', 'AF4 beta m'],\n",
       "      dtype='object')"
      ]
     },
     "execution_count": 7,
     "metadata": {},
     "output_type": "execute_result"
    }
   ],
   "source": [
    "#dropping unused columns\n",
    "df_target = df[df.columns.drop(list(df.filter(regex='delta|theta|alpha')))]\n",
    "df_target.columns"
   ]
  },
  {
   "cell_type": "code",
   "execution_count": 10,
   "metadata": {},
   "outputs": [],
   "source": [
    "column_names=['AF3 beta std', 'AF3 beta m', 'F7 beta std',\n",
    "       'F7 beta m', 'F3 beta std', 'F3 beta m', 'FC5 beta std', 'FC5 beta m',\n",
    "       'T7 beta std', 'T7 beta m', 'P7 beta std', 'P7 beta m', 'O1 beta std',\n",
    "       'O1 beta m', 'O2 beta std', 'O2 beta m', 'P8 beta std', 'P8 beta m',\n",
    "       'T8 beta std', 'T8 beta m', 'FC6 beta std', 'FC6 beta m', 'F4 beta std',\n",
    "       'F4 beta m', 'F8 beta std', 'F8 beta m', 'AF4 beta std', 'AF4 beta m']\n",
    "    \n",
    "all_columns=['Class', 'AF3 beta std', 'AF3 beta m', 'F7 beta std',\n",
    "       'F7 beta m', 'F3 beta std', 'F3 beta m', 'FC5 beta std', 'FC5 beta m',\n",
    "       'T7 beta std', 'T7 beta m', 'P7 beta std', 'P7 beta m', 'O1 beta std',\n",
    "       'O1 beta m', 'O2 beta std', 'O2 beta m', 'P8 beta std', 'P8 beta m',\n",
    "       'T8 beta std', 'T8 beta m', 'FC6 beta std', 'FC6 beta m', 'F4 beta std',\n",
    "       'F4 beta m', 'F8 beta std', 'F8 beta m', 'AF4 beta std', 'AF4 beta m']"
   ]
  },
  {
   "cell_type": "code",
   "execution_count": 12,
   "metadata": {},
   "outputs": [
    {
     "data": {
      "text/html": [
       "<div>\n",
       "<style scoped>\n",
       "    .dataframe tbody tr th:only-of-type {\n",
       "        vertical-align: middle;\n",
       "    }\n",
       "\n",
       "    .dataframe tbody tr th {\n",
       "        vertical-align: top;\n",
       "    }\n",
       "\n",
       "    .dataframe thead th {\n",
       "        text-align: right;\n",
       "    }\n",
       "</style>\n",
       "<table border=\"1\" class=\"dataframe\">\n",
       "  <thead>\n",
       "    <tr style=\"text-align: right;\">\n",
       "      <th></th>\n",
       "      <th>Class</th>\n",
       "      <th>AF3 beta std</th>\n",
       "      <th>AF3 beta m</th>\n",
       "      <th>F7 beta std</th>\n",
       "      <th>F7 beta m</th>\n",
       "      <th>F3 beta std</th>\n",
       "      <th>F3 beta m</th>\n",
       "      <th>FC5 beta std</th>\n",
       "      <th>FC5 beta m</th>\n",
       "      <th>T7 beta std</th>\n",
       "      <th>...</th>\n",
       "      <th>T8 beta std</th>\n",
       "      <th>T8 beta m</th>\n",
       "      <th>FC6 beta std</th>\n",
       "      <th>FC6 beta m</th>\n",
       "      <th>F4 beta std</th>\n",
       "      <th>F4 beta m</th>\n",
       "      <th>F8 beta std</th>\n",
       "      <th>F8 beta m</th>\n",
       "      <th>AF4 beta std</th>\n",
       "      <th>AF4 beta m</th>\n",
       "    </tr>\n",
       "  </thead>\n",
       "  <tbody>\n",
       "    <tr>\n",
       "      <th>0</th>\n",
       "      <td>1.0</td>\n",
       "      <td>0.005595</td>\n",
       "      <td>0.009634</td>\n",
       "      <td>0.004529</td>\n",
       "      <td>0.007744</td>\n",
       "      <td>0.020357</td>\n",
       "      <td>0.030252</td>\n",
       "      <td>0.005888</td>\n",
       "      <td>0.007629</td>\n",
       "      <td>0.005894</td>\n",
       "      <td>...</td>\n",
       "      <td>0.028285</td>\n",
       "      <td>0.042893</td>\n",
       "      <td>0.021144</td>\n",
       "      <td>0.032062</td>\n",
       "      <td>0.011011</td>\n",
       "      <td>0.009853</td>\n",
       "      <td>0.024823</td>\n",
       "      <td>0.036521</td>\n",
       "      <td>0.021723</td>\n",
       "      <td>0.032796</td>\n",
       "    </tr>\n",
       "    <tr>\n",
       "      <th>1</th>\n",
       "      <td>1.0</td>\n",
       "      <td>0.005365</td>\n",
       "      <td>0.007428</td>\n",
       "      <td>0.005740</td>\n",
       "      <td>0.008043</td>\n",
       "      <td>0.017047</td>\n",
       "      <td>0.028072</td>\n",
       "      <td>0.004909</td>\n",
       "      <td>0.007511</td>\n",
       "      <td>0.006245</td>\n",
       "      <td>...</td>\n",
       "      <td>0.023470</td>\n",
       "      <td>0.039748</td>\n",
       "      <td>0.017951</td>\n",
       "      <td>0.029887</td>\n",
       "      <td>0.011223</td>\n",
       "      <td>0.008797</td>\n",
       "      <td>0.019955</td>\n",
       "      <td>0.033712</td>\n",
       "      <td>0.018099</td>\n",
       "      <td>0.030079</td>\n",
       "    </tr>\n",
       "    <tr>\n",
       "      <th>2</th>\n",
       "      <td>1.0</td>\n",
       "      <td>0.003857</td>\n",
       "      <td>0.006588</td>\n",
       "      <td>0.004321</td>\n",
       "      <td>0.007011</td>\n",
       "      <td>0.019541</td>\n",
       "      <td>0.028142</td>\n",
       "      <td>0.008825</td>\n",
       "      <td>0.008760</td>\n",
       "      <td>0.005206</td>\n",
       "      <td>...</td>\n",
       "      <td>0.026056</td>\n",
       "      <td>0.039814</td>\n",
       "      <td>0.020004</td>\n",
       "      <td>0.029988</td>\n",
       "      <td>0.011385</td>\n",
       "      <td>0.008422</td>\n",
       "      <td>0.022249</td>\n",
       "      <td>0.033654</td>\n",
       "      <td>0.020282</td>\n",
       "      <td>0.030218</td>\n",
       "    </tr>\n",
       "    <tr>\n",
       "      <th>3</th>\n",
       "      <td>1.0</td>\n",
       "      <td>0.003362</td>\n",
       "      <td>0.006515</td>\n",
       "      <td>0.006039</td>\n",
       "      <td>0.005936</td>\n",
       "      <td>0.018423</td>\n",
       "      <td>0.027024</td>\n",
       "      <td>0.008741</td>\n",
       "      <td>0.008586</td>\n",
       "      <td>0.006565</td>\n",
       "      <td>...</td>\n",
       "      <td>0.024427</td>\n",
       "      <td>0.038032</td>\n",
       "      <td>0.018989</td>\n",
       "      <td>0.028567</td>\n",
       "      <td>0.008994</td>\n",
       "      <td>0.008193</td>\n",
       "      <td>0.020787</td>\n",
       "      <td>0.032193</td>\n",
       "      <td>0.018423</td>\n",
       "      <td>0.028991</td>\n",
       "    </tr>\n",
       "    <tr>\n",
       "      <th>4</th>\n",
       "      <td>1.0</td>\n",
       "      <td>0.003643</td>\n",
       "      <td>0.005571</td>\n",
       "      <td>0.004825</td>\n",
       "      <td>0.005964</td>\n",
       "      <td>0.015708</td>\n",
       "      <td>0.028224</td>\n",
       "      <td>0.008704</td>\n",
       "      <td>0.008522</td>\n",
       "      <td>0.007491</td>\n",
       "      <td>...</td>\n",
       "      <td>0.021534</td>\n",
       "      <td>0.039035</td>\n",
       "      <td>0.016475</td>\n",
       "      <td>0.029699</td>\n",
       "      <td>0.008195</td>\n",
       "      <td>0.008135</td>\n",
       "      <td>0.019303</td>\n",
       "      <td>0.032504</td>\n",
       "      <td>0.015913</td>\n",
       "      <td>0.029850</td>\n",
       "    </tr>\n",
       "  </tbody>\n",
       "</table>\n",
       "<p>5 rows × 29 columns</p>\n",
       "</div>"
      ],
      "text/plain": [
       "   Class  AF3 beta std  AF3 beta m  F7 beta std  F7 beta m  F3 beta std  \\\n",
       "0    1.0      0.005595    0.009634     0.004529   0.007744     0.020357   \n",
       "1    1.0      0.005365    0.007428     0.005740   0.008043     0.017047   \n",
       "2    1.0      0.003857    0.006588     0.004321   0.007011     0.019541   \n",
       "3    1.0      0.003362    0.006515     0.006039   0.005936     0.018423   \n",
       "4    1.0      0.003643    0.005571     0.004825   0.005964     0.015708   \n",
       "\n",
       "   F3 beta m  FC5 beta std  FC5 beta m  T7 beta std  ...  T8 beta std  \\\n",
       "0   0.030252      0.005888    0.007629     0.005894  ...     0.028285   \n",
       "1   0.028072      0.004909    0.007511     0.006245  ...     0.023470   \n",
       "2   0.028142      0.008825    0.008760     0.005206  ...     0.026056   \n",
       "3   0.027024      0.008741    0.008586     0.006565  ...     0.024427   \n",
       "4   0.028224      0.008704    0.008522     0.007491  ...     0.021534   \n",
       "\n",
       "   T8 beta m  FC6 beta std  FC6 beta m  F4 beta std  F4 beta m  F8 beta std  \\\n",
       "0   0.042893      0.021144    0.032062     0.011011   0.009853     0.024823   \n",
       "1   0.039748      0.017951    0.029887     0.011223   0.008797     0.019955   \n",
       "2   0.039814      0.020004    0.029988     0.011385   0.008422     0.022249   \n",
       "3   0.038032      0.018989    0.028567     0.008994   0.008193     0.020787   \n",
       "4   0.039035      0.016475    0.029699     0.008195   0.008135     0.019303   \n",
       "\n",
       "   F8 beta m  AF4 beta std  AF4 beta m  \n",
       "0   0.036521      0.021723    0.032796  \n",
       "1   0.033712      0.018099    0.030079  \n",
       "2   0.033654      0.020282    0.030218  \n",
       "3   0.032193      0.018423    0.028991  \n",
       "4   0.032504      0.015913    0.029850  \n",
       "\n",
       "[5 rows x 29 columns]"
      ]
     },
     "execution_count": 12,
     "metadata": {},
     "output_type": "execute_result"
    }
   ],
   "source": [
    "#Data normalization\n",
    "\n",
    "df_target[column_names] = preprocessing.normalize(df_target[column_names], axis=0)\n",
    "df_EEG = pd.DataFrame(df_target, columns=all_columns)\n",
    "df_EEG.head()"
   ]
  },
  {
   "cell_type": "code",
   "execution_count": 15,
   "metadata": {},
   "outputs": [],
   "source": [
    "#creating x and y training sets\n",
    "\n",
    "x = df_EEG[['AF3 beta std', 'AF3 beta m', 'F7 beta std',\n",
    "       'F7 beta m', 'F3 beta std', 'F3 beta m', 'FC5 beta std', 'FC5 beta m',\n",
    "       'T7 beta std', 'T7 beta m', 'P7 beta std', 'P7 beta m', 'O1 beta std',\n",
    "       'O1 beta m', 'O2 beta std', 'O2 beta m', 'P8 beta std', 'P8 beta m',\n",
    "       'T8 beta std', 'T8 beta m', 'FC6 beta std', 'FC6 beta m', 'F4 beta std',\n",
    "       'F4 beta m', 'F8 beta std', 'F8 beta m', 'AF4 beta std', 'AF4 beta m']]\n",
    "y = df_EEG['Class']"
   ]
  },
  {
   "cell_type": "code",
   "execution_count": 16,
   "metadata": {},
   "outputs": [],
   "source": [
    "#Train and test split\n",
    "x_train, x_test, y_train, y_test = train_test_split(x,y,test_size=0.2,random_state=42)  "
   ]
  },
  {
   "cell_type": "markdown",
   "metadata": {},
   "source": [
    "SVM"
   ]
  },
  {
   "cell_type": "code",
   "execution_count": 20,
   "metadata": {},
   "outputs": [],
   "source": [
    "SVM=svm.SVC()\n",
    "SVM.fit(x_train,y_train)\n",
    "SVM_predict = SVM.predict(x_test)"
   ]
  },
  {
   "cell_type": "markdown",
   "metadata": {},
   "source": [
    "Scores"
   ]
  },
  {
   "cell_type": "code",
   "execution_count": 21,
   "metadata": {},
   "outputs": [
    {
     "data": {
      "text/plain": [
       "48.00347222222222"
      ]
     },
     "execution_count": 21,
     "metadata": {},
     "output_type": "execute_result"
    }
   ],
   "source": [
    "SVM.score(x_test,y_test)*100"
   ]
  },
  {
   "cell_type": "code",
   "execution_count": 23,
   "metadata": {},
   "outputs": [
    {
     "name": "stdout",
     "output_type": "stream",
     "text": [
      "              precision    recall  f1-score   support\n",
      "\n",
      "         0.0       0.49      0.40      0.44       724\n",
      "         1.0       0.48      0.54      0.50       799\n",
      "         2.0       0.48      0.50      0.49       781\n",
      "\n",
      "    accuracy                           0.48      2304\n",
      "   macro avg       0.48      0.48      0.48      2304\n",
      "weighted avg       0.48      0.48      0.48      2304\n",
      "\n"
     ]
    }
   ],
   "source": [
    "print(classification_report(y_test,SVM_predict))"
   ]
  },
  {
   "cell_type": "code",
   "execution_count": 24,
   "metadata": {},
   "outputs": [
    {
     "name": "stdout",
     "output_type": "stream",
     "text": [
      "\n",
      "Confusion matrix\n",
      " Predito  0.0  1.0  2.0  Todos\n",
      "Real                         \n",
      "0.0      289  235  200    724\n",
      "1.0      150  428  221    799\n",
      "2.0      155  237  389    781\n",
      "Todos    594  900  810   2304\n"
     ]
    }
   ],
   "source": [
    "print(\"\\nConfusion matrix\\r\\n\",\n",
    "pd.crosstab(y_test,SVM_predict,rownames=['Real'],colnames=['Predito'], margins=True, margins_name='Todos'))\n",
    "dic_SVM=metrics.classification_report(y_test,SVM_predict,target_names=['0.0','1.0','2.0'], output_dict=True)"
   ]
  }
 ],
 "metadata": {
  "kernelspec": {
   "display_name": "Python 3.9.13 64-bit (microsoft store)",
   "language": "python",
   "name": "python3"
  },
  "language_info": {
   "codemirror_mode": {
    "name": "ipython",
    "version": 3
   },
   "file_extension": ".py",
   "mimetype": "text/x-python",
   "name": "python",
   "nbconvert_exporter": "python",
   "pygments_lexer": "ipython3",
   "version": "3.9.13"
  },
  "orig_nbformat": 4,
  "vscode": {
   "interpreter": {
    "hash": "ea6e64f2409e8d1aad035b517afa5d7288b59435ef8e27ec4a88ca9998af4977"
   }
  }
 },
 "nbformat": 4,
 "nbformat_minor": 2
}

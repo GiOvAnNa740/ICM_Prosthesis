{
 "cells": [
  {
   "cell_type": "code",
   "execution_count": 33,
   "metadata": {},
   "outputs": [],
   "source": [
    "# imports\n",
    "#python3 -m pip install --upgrade example\n",
    "\n",
    "import numpy as np\n",
    "import pandas as pd\n",
    "import os\n",
    "from tqdm import tqdm\n",
    "import seaborn as sns\n",
    "import matplotlib.pyplot as plt\n",
    "from sklearn.model_selection import train_test_split\n",
    "from sklearn.linear_model import LinearRegression\n",
    "from sklearn import metrics\n",
    "from sklearn.metrics import classification_report\n",
    "from sklearn.metrics import confusion_matrix\n",
    "\n",
    "%matplotlib inline"
   ]
  },
  {
   "cell_type": "code",
   "execution_count": 17,
   "metadata": {},
   "outputs": [
    {
     "name": "stderr",
     "output_type": "stream",
     "text": [
      "  0%|          | 0/4 [00:00<?, ?it/s]C:\\Users\\Pichau\\AppData\\Local\\Temp\\ipykernel_8596\\66687827.py:6: FutureWarning: The frame.append method is deprecated and will be removed from pandas in a future version. Use pandas.concat instead.\n",
      "  EEG_Data = EEG_Data.append(temp_df)\n",
      "C:\\Users\\Pichau\\AppData\\Local\\Temp\\ipykernel_8596\\66687827.py:6: FutureWarning: The frame.append method is deprecated and will be removed from pandas in a future version. Use pandas.concat instead.\n",
      "  EEG_Data = EEG_Data.append(temp_df)\n",
      " 50%|█████     | 2/4 [00:00<00:00, 15.10it/s]C:\\Users\\Pichau\\AppData\\Local\\Temp\\ipykernel_8596\\66687827.py:6: FutureWarning: The frame.append method is deprecated and will be removed from pandas in a future version. Use pandas.concat instead.\n",
      "  EEG_Data = EEG_Data.append(temp_df)\n",
      "C:\\Users\\Pichau\\AppData\\Local\\Temp\\ipykernel_8596\\66687827.py:6: FutureWarning: The frame.append method is deprecated and will be removed from pandas in a future version. Use pandas.concat instead.\n",
      "  EEG_Data = EEG_Data.append(temp_df)\n",
      "100%|██████████| 4/4 [00:00<00:00, 15.22it/s]\n"
     ]
    }
   ],
   "source": [
    "filenames_list = os.listdir('EEG_Data_handMovements') #lists all files on directory\n",
    "EEG_Data = pd.DataFrame({}) #creates empty df\n",
    "\n",
    "for file_name in tqdm(filenames_list): # adds each file from directory on temporary df\n",
    "    temp_df = pd.read_csv('EEG_Data_handMovements/'+file_name)\n",
    "    EEG_Data = EEG_Data.append(temp_df) \n"
   ]
  },
  {
   "cell_type": "code",
   "execution_count": 18,
   "metadata": {},
   "outputs": [
    {
     "data": {
      "text/html": [
       "<div>\n",
       "<style scoped>\n",
       "    .dataframe tbody tr th:only-of-type {\n",
       "        vertical-align: middle;\n",
       "    }\n",
       "\n",
       "    .dataframe tbody tr th {\n",
       "        vertical-align: top;\n",
       "    }\n",
       "\n",
       "    .dataframe thead th {\n",
       "        text-align: right;\n",
       "    }\n",
       "</style>\n",
       "<table border=\"1\" class=\"dataframe\">\n",
       "  <thead>\n",
       "    <tr style=\"text-align: right;\">\n",
       "      <th></th>\n",
       "      <th>Class</th>\n",
       "      <th>AF3 delta std</th>\n",
       "      <th>AF3 delta m</th>\n",
       "      <th>AF3 theta std</th>\n",
       "      <th>AF3 theta m</th>\n",
       "      <th>AF3 alpha std</th>\n",
       "      <th>AF3 alpha m</th>\n",
       "      <th>AF3 beta std</th>\n",
       "      <th>AF3 beta m</th>\n",
       "      <th>F7 delta std</th>\n",
       "      <th>...</th>\n",
       "      <th>F8 beta std</th>\n",
       "      <th>F8 beta m</th>\n",
       "      <th>AF4 delta std</th>\n",
       "      <th>AF4 delta m</th>\n",
       "      <th>AF4 theta std</th>\n",
       "      <th>AF4 theta m</th>\n",
       "      <th>AF4 alpha std</th>\n",
       "      <th>AF4 alpha m</th>\n",
       "      <th>AF4 beta std</th>\n",
       "      <th>AF4 beta m</th>\n",
       "    </tr>\n",
       "  </thead>\n",
       "  <tbody>\n",
       "    <tr>\n",
       "      <th>0</th>\n",
       "      <td>1.0</td>\n",
       "      <td>3569.164550</td>\n",
       "      <td>2063.892754</td>\n",
       "      <td>1.673726</td>\n",
       "      <td>4.444736</td>\n",
       "      <td>0.526209</td>\n",
       "      <td>3.002088</td>\n",
       "      <td>1.425022</td>\n",
       "      <td>3.302739</td>\n",
       "      <td>3563.803888</td>\n",
       "      <td>...</td>\n",
       "      <td>45.468326</td>\n",
       "      <td>72.508750</td>\n",
       "      <td>3701.186330</td>\n",
       "      <td>2182.676835</td>\n",
       "      <td>18.192418</td>\n",
       "      <td>41.349662</td>\n",
       "      <td>16.004756</td>\n",
       "      <td>42.046467</td>\n",
       "      <td>46.280843</td>\n",
       "      <td>73.565719</td>\n",
       "    </tr>\n",
       "    <tr>\n",
       "      <th>1</th>\n",
       "      <td>1.0</td>\n",
       "      <td>3568.423670</td>\n",
       "      <td>2063.099248</td>\n",
       "      <td>1.897790</td>\n",
       "      <td>3.728823</td>\n",
       "      <td>1.304186</td>\n",
       "      <td>1.854353</td>\n",
       "      <td>1.366575</td>\n",
       "      <td>2.546458</td>\n",
       "      <td>3563.560922</td>\n",
       "      <td>...</td>\n",
       "      <td>36.551948</td>\n",
       "      <td>66.931186</td>\n",
       "      <td>3725.210509</td>\n",
       "      <td>2180.197439</td>\n",
       "      <td>8.820788</td>\n",
       "      <td>38.012788</td>\n",
       "      <td>19.601233</td>\n",
       "      <td>29.431054</td>\n",
       "      <td>38.559351</td>\n",
       "      <td>67.470041</td>\n",
       "    </tr>\n",
       "    <tr>\n",
       "      <th>2</th>\n",
       "      <td>1.0</td>\n",
       "      <td>3568.157929</td>\n",
       "      <td>2062.445859</td>\n",
       "      <td>2.798014</td>\n",
       "      <td>2.574504</td>\n",
       "      <td>1.120537</td>\n",
       "      <td>1.958819</td>\n",
       "      <td>0.982433</td>\n",
       "      <td>2.258622</td>\n",
       "      <td>3563.279981</td>\n",
       "      <td>...</td>\n",
       "      <td>40.754308</td>\n",
       "      <td>66.816547</td>\n",
       "      <td>3724.417296</td>\n",
       "      <td>2176.823208</td>\n",
       "      <td>18.159202</td>\n",
       "      <td>23.612639</td>\n",
       "      <td>14.378291</td>\n",
       "      <td>19.555084</td>\n",
       "      <td>43.210004</td>\n",
       "      <td>67.781924</td>\n",
       "    </tr>\n",
       "    <tr>\n",
       "      <th>3</th>\n",
       "      <td>1.0</td>\n",
       "      <td>3567.710021</td>\n",
       "      <td>2062.112673</td>\n",
       "      <td>2.181775</td>\n",
       "      <td>3.610507</td>\n",
       "      <td>0.629608</td>\n",
       "      <td>2.155876</td>\n",
       "      <td>0.856275</td>\n",
       "      <td>2.233711</td>\n",
       "      <td>3562.787801</td>\n",
       "      <td>...</td>\n",
       "      <td>38.074628</td>\n",
       "      <td>63.915386</td>\n",
       "      <td>3725.822160</td>\n",
       "      <td>2177.089059</td>\n",
       "      <td>19.737616</td>\n",
       "      <td>29.484396</td>\n",
       "      <td>15.793034</td>\n",
       "      <td>25.713513</td>\n",
       "      <td>39.250246</td>\n",
       "      <td>65.031031</td>\n",
       "    </tr>\n",
       "    <tr>\n",
       "      <th>4</th>\n",
       "      <td>1.0</td>\n",
       "      <td>3565.546124</td>\n",
       "      <td>2063.128867</td>\n",
       "      <td>1.685161</td>\n",
       "      <td>3.384311</td>\n",
       "      <td>0.677526</td>\n",
       "      <td>1.795798</td>\n",
       "      <td>0.927924</td>\n",
       "      <td>1.909810</td>\n",
       "      <td>3562.655091</td>\n",
       "      <td>...</td>\n",
       "      <td>35.357384</td>\n",
       "      <td>64.534645</td>\n",
       "      <td>3723.053978</td>\n",
       "      <td>2167.798335</td>\n",
       "      <td>8.429414</td>\n",
       "      <td>26.374975</td>\n",
       "      <td>14.920736</td>\n",
       "      <td>35.675266</td>\n",
       "      <td>33.901687</td>\n",
       "      <td>66.956313</td>\n",
       "    </tr>\n",
       "  </tbody>\n",
       "</table>\n",
       "<p>5 rows × 113 columns</p>\n",
       "</div>"
      ],
      "text/plain": [
       "   Class  AF3 delta std  AF3 delta m  AF3 theta std  AF3 theta m  \\\n",
       "0    1.0    3569.164550  2063.892754       1.673726     4.444736   \n",
       "1    1.0    3568.423670  2063.099248       1.897790     3.728823   \n",
       "2    1.0    3568.157929  2062.445859       2.798014     2.574504   \n",
       "3    1.0    3567.710021  2062.112673       2.181775     3.610507   \n",
       "4    1.0    3565.546124  2063.128867       1.685161     3.384311   \n",
       "\n",
       "   AF3 alpha std  AF3 alpha m  AF3 beta std  AF3 beta m  F7 delta std  ...  \\\n",
       "0       0.526209     3.002088      1.425022    3.302739   3563.803888  ...   \n",
       "1       1.304186     1.854353      1.366575    2.546458   3563.560922  ...   \n",
       "2       1.120537     1.958819      0.982433    2.258622   3563.279981  ...   \n",
       "3       0.629608     2.155876      0.856275    2.233711   3562.787801  ...   \n",
       "4       0.677526     1.795798      0.927924    1.909810   3562.655091  ...   \n",
       "\n",
       "   F8 beta std  F8 beta m  AF4 delta std  AF4 delta m  AF4 theta std  \\\n",
       "0    45.468326  72.508750    3701.186330  2182.676835      18.192418   \n",
       "1    36.551948  66.931186    3725.210509  2180.197439       8.820788   \n",
       "2    40.754308  66.816547    3724.417296  2176.823208      18.159202   \n",
       "3    38.074628  63.915386    3725.822160  2177.089059      19.737616   \n",
       "4    35.357384  64.534645    3723.053978  2167.798335       8.429414   \n",
       "\n",
       "   AF4 theta m  AF4 alpha std  AF4 alpha m  AF4 beta std  AF4 beta m  \n",
       "0    41.349662      16.004756    42.046467     46.280843   73.565719  \n",
       "1    38.012788      19.601233    29.431054     38.559351   67.470041  \n",
       "2    23.612639      14.378291    19.555084     43.210004   67.781924  \n",
       "3    29.484396      15.793034    25.713513     39.250246   65.031031  \n",
       "4    26.374975      14.920736    35.675266     33.901687   66.956313  \n",
       "\n",
       "[5 rows x 113 columns]"
      ]
     },
     "execution_count": 18,
     "metadata": {},
     "output_type": "execute_result"
    }
   ],
   "source": [
    "EEG_Data.head() #visualize"
   ]
  },
  {
   "cell_type": "code",
   "execution_count": 19,
   "metadata": {},
   "outputs": [
    {
     "name": "stdout",
     "output_type": "stream",
     "text": [
      "      Class  AF3 delta std  AF3 delta m  AF3 theta std  AF3 theta m  \\\n",
      "0       0.5       0.559575     0.403516       0.108297     0.133455   \n",
      "1       0.5       0.557488     0.399750       0.123061     0.109361   \n",
      "2       0.5       0.556739     0.396649       0.182379     0.070512   \n",
      "3       0.5       0.555477     0.395068       0.141774     0.105379   \n",
      "4       0.5       0.549379     0.399891       0.109051     0.097766   \n",
      "...     ...            ...          ...            ...          ...   \n",
      "2875    0.0       0.568083     0.403003       0.079024     0.055178   \n",
      "2876    0.0       0.566831     0.398665       0.072593     0.056018   \n",
      "2877    0.0       0.565269     0.400305       0.073092     0.053405   \n",
      "2878    0.0       0.563609     0.398807       0.064796     0.037010   \n",
      "2879    0.0       0.562862     0.396967       0.107040     0.045606   \n",
      "\n",
      "      AF3 alpha std  AF3 alpha m  AF3 beta std  AF3 beta m  F7 delta std  ...  \\\n",
      "0          0.051283     0.116925      0.177920    0.336314      0.259689  ...   \n",
      "1          0.138074     0.063736      0.166342    0.208758      0.252309  ...   \n",
      "2          0.117586     0.068577      0.090243    0.160211      0.243775  ...   \n",
      "3          0.062818     0.077709      0.065252    0.156010      0.228825  ...   \n",
      "4          0.068164     0.061022      0.079445    0.101380      0.224794  ...   \n",
      "...             ...          ...           ...         ...           ...  ...   \n",
      "2875       0.054473     0.048782      0.195931    0.127519      0.267404  ...   \n",
      "2876       0.059611     0.077955      0.189161    0.113428      0.273098  ...   \n",
      "2877       0.060992     0.070763      0.133804    0.102852      0.280724  ...   \n",
      "2878       0.016540     0.056657      0.156025    0.079943      0.280748  ...   \n",
      "2879       0.061596     0.046160      0.152383    0.061827      0.239488  ...   \n",
      "\n",
      "      F8 beta std  F8 beta m  AF4 delta std  AF4 delta m  AF4 theta std  \\\n",
      "0        0.538648   0.811518       0.945964     0.173129       0.189882   \n",
      "1        0.432218   0.748279       0.968795     0.170638       0.091811   \n",
      "2        0.482379   0.746979       0.968041     0.167248       0.189534   \n",
      "3        0.450393   0.714085       0.969376     0.167515       0.206052   \n",
      "4        0.417959   0.721107       0.966745     0.158181       0.087715   \n",
      "...           ...        ...            ...          ...            ...   \n",
      "2875     0.012003   0.007428       0.820331     0.053270       0.007162   \n",
      "2876     0.011067   0.006122       0.820440     0.052996       0.009070   \n",
      "2877     0.010639   0.006856       0.820472     0.053007       0.009786   \n",
      "2878     0.009514   0.006128       0.819354     0.052264       0.010353   \n",
      "2879     0.012361   0.007767       0.819560     0.052081       0.009779   \n",
      "\n",
      "      AF4 theta m  AF4 alpha std  AF4 alpha m  AF4 beta std  AF4 beta m  \n",
      "0        0.167663       0.169074     0.300220      0.523252    0.776507  \n",
      "1        0.153968       0.207170     0.209079      0.435066    0.710962  \n",
      "2        0.094865       0.151846     0.137730      0.488180    0.714315  \n",
      "3        0.118964       0.166831     0.182222      0.442956    0.684736  \n",
      "4        0.106202       0.157592     0.254191      0.381872    0.705438  \n",
      "...           ...            ...          ...           ...         ...  \n",
      "2875     0.005515       0.002415     0.005376      0.007044    0.009562  \n",
      "2876     0.006221       0.002187     0.007824      0.009010    0.012300  \n",
      "2877     0.006618       0.009540     0.007476      0.008900    0.012958  \n",
      "2878     0.006178       0.014321     0.007653      0.007196    0.010992  \n",
      "2879     0.005990       0.012793     0.007136      0.012503    0.009696  \n",
      "\n",
      "[11520 rows x 113 columns]\n"
     ]
    }
   ],
   "source": [
    "normalized_df=(EEG_Data-EEG_Data.min())/(EEG_Data.max()-EEG_Data.min()) #data normalization\n",
    "\n",
    "print(normalized_df)"
   ]
  },
  {
   "cell_type": "code",
   "execution_count": 20,
   "metadata": {},
   "outputs": [
    {
     "data": {
      "text/plain": [
       "Index(['Class', 'AF3 delta std', 'AF3 delta m', 'AF3 theta std', 'AF3 theta m',\n",
       "       'AF3 alpha std', 'AF3 alpha m', 'AF3 beta std', 'AF3 beta m',\n",
       "       'F7 delta std',\n",
       "       ...\n",
       "       'F8 beta std', 'F8 beta m', 'AF4 delta std', 'AF4 delta m',\n",
       "       'AF4 theta std', 'AF4 theta m', 'AF4 alpha std', 'AF4 alpha m',\n",
       "       'AF4 beta std', 'AF4 beta m'],\n",
       "      dtype='object', length=113)"
      ]
     },
     "execution_count": 20,
     "metadata": {},
     "output_type": "execute_result"
    }
   ],
   "source": [
    "EEG_Data.columns  "
   ]
  },
  {
   "cell_type": "code",
   "execution_count": 21,
   "metadata": {},
   "outputs": [],
   "source": [
    "#creating x and y trainning sets\n",
    "\n",
    "x = EEG_Data[['AF3 delta std','AF3 delta m','AF3 theta std','AF3 theta m','AF3 alpha std','AF3 alpha m','AF3 beta std','AF3 beta m','F7 delta std','F7 delta m','F7 theta std','F7 theta m','F7 alpha std','F7 alpha m','F7 beta std','F7 beta m','F3 delta std','F3 delta m','F3 theta std','F3 theta m','F3 alpha std','F3 alpha m','F3 beta std','F3 beta m','FC5 delta std','FC5 delta m','FC5 theta std','FC5 theta m','FC5 alpha std','FC5 alpha m','FC5 beta std','FC5 beta m','T7 delta std','T7 delta m','T7 theta std','T7 theta m','T7 alpha std','T7 alpha m','T7 beta std','T7 beta m','P7 delta std','P7 delta m','P7 theta std','P7 theta m','P7 alpha std','P7 alpha m','P7 beta std','P7 beta m','O1 delta std','O1 delta m','O1 theta std','O1 theta m','O1 alpha std','O1 alpha m','O1 beta std','O1 beta m','O2 delta std','O2 delta m','O2 theta std','O2 theta m','O2 alpha std','O2 alpha m','O2 beta std','O2 beta m','P8 delta std','P8 delta m','P8 theta std','P8 theta m','P8 alpha std','P8 alpha m','P8 beta std','P8 beta m','T8 delta std','T8 delta m','T8 theta std','T8 theta m','T8 alpha std','T8 alpha m','T8 beta std','T8 beta m','FC6 delta std','FC6 delta m','FC6 theta std','FC6 theta m','FC6 alpha std','FC6 alpha m','FC6 beta std','FC6 beta m','F4 delta std','F4 delta m','F4 theta std','F4 theta m','F4 alpha std','F4 alpha m','F4 beta std','F4 beta m','F8 delta std','F8 delta_m','F8 theta std','F8 theta m','F8 alpha std','F8 alpha m','F8 beta std','F8 beta m','AF4 delta std','AF4 delta m','AF4 theta std','AF4 theta m','AF4 alpha std','AF4 alpha m','AF4 beta std','AF4 beta m']]\n",
    "y = EEG_Data['Class']"
   ]
  },
  {
   "cell_type": "code",
   "execution_count": 26,
   "metadata": {},
   "outputs": [
    {
     "data": {
      "text/html": [
       "<div>\n",
       "<style scoped>\n",
       "    .dataframe tbody tr th:only-of-type {\n",
       "        vertical-align: middle;\n",
       "    }\n",
       "\n",
       "    .dataframe tbody tr th {\n",
       "        vertical-align: top;\n",
       "    }\n",
       "\n",
       "    .dataframe thead th {\n",
       "        text-align: right;\n",
       "    }\n",
       "</style>\n",
       "<table border=\"1\" class=\"dataframe\">\n",
       "  <thead>\n",
       "    <tr style=\"text-align: right;\">\n",
       "      <th></th>\n",
       "      <th>Coefficient</th>\n",
       "    </tr>\n",
       "  </thead>\n",
       "  <tbody>\n",
       "    <tr>\n",
       "      <th>AF3 delta std</th>\n",
       "      <td>0.015535</td>\n",
       "    </tr>\n",
       "    <tr>\n",
       "      <th>AF3 delta m</th>\n",
       "      <td>-0.033037</td>\n",
       "    </tr>\n",
       "    <tr>\n",
       "      <th>AF3 theta std</th>\n",
       "      <td>-0.010110</td>\n",
       "    </tr>\n",
       "    <tr>\n",
       "      <th>AF3 theta m</th>\n",
       "      <td>-0.002799</td>\n",
       "    </tr>\n",
       "    <tr>\n",
       "      <th>AF3 alpha std</th>\n",
       "      <td>0.018443</td>\n",
       "    </tr>\n",
       "    <tr>\n",
       "      <th>...</th>\n",
       "      <td>...</td>\n",
       "    </tr>\n",
       "    <tr>\n",
       "      <th>AF4 theta m</th>\n",
       "      <td>0.026874</td>\n",
       "    </tr>\n",
       "    <tr>\n",
       "      <th>AF4 alpha std</th>\n",
       "      <td>-0.002056</td>\n",
       "    </tr>\n",
       "    <tr>\n",
       "      <th>AF4 alpha m</th>\n",
       "      <td>0.011068</td>\n",
       "    </tr>\n",
       "    <tr>\n",
       "      <th>AF4 beta std</th>\n",
       "      <td>-0.115364</td>\n",
       "    </tr>\n",
       "    <tr>\n",
       "      <th>AF4 beta m</th>\n",
       "      <td>0.005378</td>\n",
       "    </tr>\n",
       "  </tbody>\n",
       "</table>\n",
       "<p>112 rows × 1 columns</p>\n",
       "</div>"
      ],
      "text/plain": [
       "               Coefficient\n",
       "AF3 delta std     0.015535\n",
       "AF3 delta m      -0.033037\n",
       "AF3 theta std    -0.010110\n",
       "AF3 theta m      -0.002799\n",
       "AF3 alpha std     0.018443\n",
       "...                    ...\n",
       "AF4 theta m       0.026874\n",
       "AF4 alpha std    -0.002056\n",
       "AF4 alpha m       0.011068\n",
       "AF4 beta std     -0.115364\n",
       "AF4 beta m        0.005378\n",
       "\n",
       "[112 rows x 1 columns]"
      ]
     },
     "execution_count": 26,
     "metadata": {},
     "output_type": "execute_result"
    }
   ],
   "source": [
    "x_train, x_test, y_train, y_test = train_test_split(x,y,test_size=0.3, random_state=42)  #Train and test split\n",
    "\n",
    "#training model\n",
    "modelPredict = LinearRegression()\n",
    "modelPredict.fit(x_train,y_train)\n",
    "\n",
    "coeff = pd.DataFrame(modelPredict.coef_,x.columns,columns=['Coefficient'])\n",
    "coeff\n"
   ]
  },
  {
   "cell_type": "code",
   "execution_count": 29,
   "metadata": {},
   "outputs": [
    {
     "data": {
      "text/plain": [
       "1078    1.0\n",
       "675     2.0\n",
       "419     0.0\n",
       "2134    2.0\n",
       "2397    0.0\n",
       "Name: Class, dtype: float64"
      ]
     },
     "execution_count": 29,
     "metadata": {},
     "output_type": "execute_result"
    }
   ],
   "source": [
    "predictions = modelPredict.predict(x_test)\n",
    "\n",
    "predictions\n",
    "\n",
    "y_test.head()"
   ]
  },
  {
   "cell_type": "code",
   "execution_count": 32,
   "metadata": {},
   "outputs": [
    {
     "name": "stdout",
     "output_type": "stream",
     "text": [
      "MAE:  0.6678972961844392\n",
      "MSE:  0.6243805932590168\n",
      "RMSE:  0.7901775707137079\n"
     ]
    }
   ],
   "source": [
    "#error means\n",
    "print('MAE: ', metrics.mean_absolute_error(y_test,predictions))\n",
    "print('MSE: ', metrics.mean_squared_error(y_test,predictions))\n",
    "print('RMSE: ', np.sqrt(metrics.mean_squared_error(y_test,predictions)))"
   ]
  },
  {
   "cell_type": "markdown",
   "metadata": {},
   "source": [
    "Evaluating the model"
   ]
  },
  {
   "cell_type": "code",
   "execution_count": 36,
   "metadata": {},
   "outputs": [
    {
     "ename": "ValueError",
     "evalue": "Classification metrics can't handle a mix of multiclass and continuous targets",
     "output_type": "error",
     "traceback": [
      "\u001b[1;31m---------------------------------------------------------------------------\u001b[0m",
      "\u001b[1;31mValueError\u001b[0m                                Traceback (most recent call last)",
      "\u001b[1;32md:\\Gi\\Documents\\São Judas\\IniciaçãoCientifica\\Linear_Regression.ipynb Cell 11\u001b[0m in \u001b[0;36m<cell line: 3>\u001b[1;34m()\u001b[0m\n\u001b[0;32m      <a href='vscode-notebook-cell:/d%3A/Gi/Documents/S%C3%A3o%20Judas/Inicia%C3%A7%C3%A3oCientifica/Linear_Regression.ipynb#X12sZmlsZQ%3D%3D?line=0'>1</a>\u001b[0m \u001b[39m#print(classification_report(y_test,predictions))\u001b[39;00m\n\u001b[1;32m----> <a href='vscode-notebook-cell:/d%3A/Gi/Documents/S%C3%A3o%20Judas/Inicia%C3%A7%C3%A3oCientifica/Linear_Regression.ipynb#X12sZmlsZQ%3D%3D?line=2'>3</a>\u001b[0m conf_mat \u001b[39m=\u001b[39m confusion_matrix(y_test,predictions)\n\u001b[0;32m      <a href='vscode-notebook-cell:/d%3A/Gi/Documents/S%C3%A3o%20Judas/Inicia%C3%A7%C3%A3oCientifica/Linear_Regression.ipynb#X12sZmlsZQ%3D%3D?line=3'>4</a>\u001b[0m \u001b[39mprint\u001b[39m(conf_mat)\n",
      "File \u001b[1;32m~\\AppData\\Local\\Packages\\PythonSoftwareFoundation.Python.3.9_qbz5n2kfra8p0\\LocalCache\\local-packages\\Python39\\site-packages\\sklearn\\metrics\\_classification.py:307\u001b[0m, in \u001b[0;36mconfusion_matrix\u001b[1;34m(y_true, y_pred, labels, sample_weight, normalize)\u001b[0m\n\u001b[0;32m    222\u001b[0m \u001b[39mdef\u001b[39;00m \u001b[39mconfusion_matrix\u001b[39m(\n\u001b[0;32m    223\u001b[0m     y_true, y_pred, \u001b[39m*\u001b[39m, labels\u001b[39m=\u001b[39m\u001b[39mNone\u001b[39;00m, sample_weight\u001b[39m=\u001b[39m\u001b[39mNone\u001b[39;00m, normalize\u001b[39m=\u001b[39m\u001b[39mNone\u001b[39;00m\n\u001b[0;32m    224\u001b[0m ):\n\u001b[0;32m    225\u001b[0m     \u001b[39m\"\"\"Compute confusion matrix to evaluate the accuracy of a classification.\u001b[39;00m\n\u001b[0;32m    226\u001b[0m \n\u001b[0;32m    227\u001b[0m \u001b[39m    By definition a confusion matrix :math:`C` is such that :math:`C_{i, j}`\u001b[39;00m\n\u001b[1;32m   (...)\u001b[0m\n\u001b[0;32m    305\u001b[0m \u001b[39m    (0, 2, 1, 1)\u001b[39;00m\n\u001b[0;32m    306\u001b[0m \u001b[39m    \"\"\"\u001b[39;00m\n\u001b[1;32m--> 307\u001b[0m     y_type, y_true, y_pred \u001b[39m=\u001b[39m _check_targets(y_true, y_pred)\n\u001b[0;32m    308\u001b[0m     \u001b[39mif\u001b[39;00m y_type \u001b[39mnot\u001b[39;00m \u001b[39min\u001b[39;00m (\u001b[39m\"\u001b[39m\u001b[39mbinary\u001b[39m\u001b[39m\"\u001b[39m, \u001b[39m\"\u001b[39m\u001b[39mmulticlass\u001b[39m\u001b[39m\"\u001b[39m):\n\u001b[0;32m    309\u001b[0m         \u001b[39mraise\u001b[39;00m \u001b[39mValueError\u001b[39;00m(\u001b[39m\"\u001b[39m\u001b[39m%s\u001b[39;00m\u001b[39m is not supported\u001b[39m\u001b[39m\"\u001b[39m \u001b[39m%\u001b[39m y_type)\n",
      "File \u001b[1;32m~\\AppData\\Local\\Packages\\PythonSoftwareFoundation.Python.3.9_qbz5n2kfra8p0\\LocalCache\\local-packages\\Python39\\site-packages\\sklearn\\metrics\\_classification.py:93\u001b[0m, in \u001b[0;36m_check_targets\u001b[1;34m(y_true, y_pred)\u001b[0m\n\u001b[0;32m     90\u001b[0m     y_type \u001b[39m=\u001b[39m {\u001b[39m\"\u001b[39m\u001b[39mmulticlass\u001b[39m\u001b[39m\"\u001b[39m}\n\u001b[0;32m     92\u001b[0m \u001b[39mif\u001b[39;00m \u001b[39mlen\u001b[39m(y_type) \u001b[39m>\u001b[39m \u001b[39m1\u001b[39m:\n\u001b[1;32m---> 93\u001b[0m     \u001b[39mraise\u001b[39;00m \u001b[39mValueError\u001b[39;00m(\n\u001b[0;32m     94\u001b[0m         \u001b[39m\"\u001b[39m\u001b[39mClassification metrics can\u001b[39m\u001b[39m'\u001b[39m\u001b[39mt handle a mix of \u001b[39m\u001b[39m{0}\u001b[39;00m\u001b[39m and \u001b[39m\u001b[39m{1}\u001b[39;00m\u001b[39m targets\u001b[39m\u001b[39m\"\u001b[39m\u001b[39m.\u001b[39mformat(\n\u001b[0;32m     95\u001b[0m             type_true, type_pred\n\u001b[0;32m     96\u001b[0m         )\n\u001b[0;32m     97\u001b[0m     )\n\u001b[0;32m     99\u001b[0m \u001b[39m# We can't have more than one value on y_type => The set is no more needed\u001b[39;00m\n\u001b[0;32m    100\u001b[0m y_type \u001b[39m=\u001b[39m y_type\u001b[39m.\u001b[39mpop()\n",
      "\u001b[1;31mValueError\u001b[0m: Classification metrics can't handle a mix of multiclass and continuous targets"
     ]
    }
   ],
   "source": [
    "#print(classification_report(y_test,predictions))\n",
    "\n",
    "conf_mat = confusion_matrix(y_test,predictions)\n",
    "print(conf_mat)"
   ]
  }
 ],
 "metadata": {
  "kernelspec": {
   "display_name": "Python 3.9.13 64-bit (microsoft store)",
   "language": "python",
   "name": "python3"
  },
  "language_info": {
   "codemirror_mode": {
    "name": "ipython",
    "version": 3
   },
   "file_extension": ".py",
   "mimetype": "text/x-python",
   "name": "python",
   "nbconvert_exporter": "python",
   "pygments_lexer": "ipython3",
   "version": "3.9.13 (tags/v3.9.13:6de2ca5, May 17 2022, 16:36:42) [MSC v.1929 64 bit (AMD64)]"
  },
  "orig_nbformat": 4,
  "vscode": {
   "interpreter": {
    "hash": "ea6e64f2409e8d1aad035b517afa5d7288b59435ef8e27ec4a88ca9998af4977"
   }
  }
 },
 "nbformat": 4,
 "nbformat_minor": 2
}

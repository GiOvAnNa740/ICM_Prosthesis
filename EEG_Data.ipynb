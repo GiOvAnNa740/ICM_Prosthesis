{
 "cells": [
  {
   "cell_type": "code",
<<<<<<< HEAD
   "execution_count": 3,
=======
   "execution_count": 2,
>>>>>>> d21d063f5b06ecb6981449914d7ae17ffc156833
   "metadata": {},
   "outputs": [],
   "source": [
    "# imports\n",
    "#python3 -m pip install --upgrade example\n",
    "\n",
    "import numpy as np\n",
    "import pandas as pd\n",
    "import os\n",
    "from tqdm import tqdm\n",
<<<<<<< HEAD
=======
    "import seaborn as sns\n",
    "import matplotlib.pyplot as plt\n",
>>>>>>> d21d063f5b06ecb6981449914d7ae17ffc156833
    "from sklearn.model_selection import train_test_split\n",
    "from sklearn.linear_model import LinearRegression\n",
    "from sklearn import metrics\n",
    "from sklearn import svm\n",
<<<<<<< HEAD
    "from sklearn import preprocessing\n",
=======
>>>>>>> d21d063f5b06ecb6981449914d7ae17ffc156833
    "from sklearn.metrics import classification_report\n",
    "from sklearn.metrics import confusion_matrix\n",
    "\n",
    "%matplotlib inline"
   ]
  },
  {
   "cell_type": "code",
<<<<<<< HEAD
   "execution_count": 2,
=======
   "execution_count": 3,
>>>>>>> d21d063f5b06ecb6981449914d7ae17ffc156833
   "metadata": {},
   "outputs": [
    {
     "name": "stderr",
     "output_type": "stream",
     "text": [
<<<<<<< HEAD
      "  0%|          | 0/4 [00:00<?, ?it/s]C:\\Users\\Pichau\\AppData\\Local\\Temp\\ipykernel_11128\\1304392739.py:6: FutureWarning: The frame.append method is deprecated and will be removed from pandas in a future version. Use pandas.concat instead.\n",
      "  EEG_Data = EEG_Data.append(temp_df)\n",
      " 25%|██▌       | 1/4 [00:00<00:00,  7.99it/s]C:\\Users\\Pichau\\AppData\\Local\\Temp\\ipykernel_11128\\1304392739.py:6: FutureWarning: The frame.append method is deprecated and will be removed from pandas in a future version. Use pandas.concat instead.\n",
      "  EEG_Data = EEG_Data.append(temp_df)\n",
      " 50%|█████     | 2/4 [00:00<00:00,  7.91it/s]C:\\Users\\Pichau\\AppData\\Local\\Temp\\ipykernel_11128\\1304392739.py:6: FutureWarning: The frame.append method is deprecated and will be removed from pandas in a future version. Use pandas.concat instead.\n",
      "  EEG_Data = EEG_Data.append(temp_df)\n",
      " 75%|███████▌  | 3/4 [00:00<00:00,  7.61it/s]C:\\Users\\Pichau\\AppData\\Local\\Temp\\ipykernel_11128\\1304392739.py:6: FutureWarning: The frame.append method is deprecated and will be removed from pandas in a future version. Use pandas.concat instead.\n",
      "  EEG_Data = EEG_Data.append(temp_df)\n",
      "100%|██████████| 4/4 [00:00<00:00,  7.87it/s]\n"
=======
      "  0%|          | 0/4 [00:00<?, ?it/s]C:\\Users\\caiqu\\AppData\\Local\\Temp\\ipykernel_4908\\2448520539.py:6: FutureWarning: The frame.append method is deprecated and will be removed from pandas in a future version. Use pandas.concat instead.\n",
      "  EEG_Data = EEG_Data.append(temp_df)\n",
      " 25%|██▌       | 1/4 [00:00<00:00,  9.45it/s]C:\\Users\\caiqu\\AppData\\Local\\Temp\\ipykernel_4908\\2448520539.py:6: FutureWarning: The frame.append method is deprecated and will be removed from pandas in a future version. Use pandas.concat instead.\n",
      "  EEG_Data = EEG_Data.append(temp_df)\n",
      "C:\\Users\\caiqu\\AppData\\Local\\Temp\\ipykernel_4908\\2448520539.py:6: FutureWarning: The frame.append method is deprecated and will be removed from pandas in a future version. Use pandas.concat instead.\n",
      "  EEG_Data = EEG_Data.append(temp_df)\n",
      " 75%|███████▌  | 3/4 [00:00<00:00,  9.92it/s]C:\\Users\\caiqu\\AppData\\Local\\Temp\\ipykernel_4908\\2448520539.py:6: FutureWarning: The frame.append method is deprecated and will be removed from pandas in a future version. Use pandas.concat instead.\n",
      "  EEG_Data = EEG_Data.append(temp_df)\n",
      "100%|██████████| 4/4 [00:00<00:00,  9.89it/s]\n"
>>>>>>> d21d063f5b06ecb6981449914d7ae17ffc156833
     ]
    }
   ],
   "source": [
    "filenames_list = os.listdir('EEG_Data_handMovements') #lists all files on directory\n",
    "EEG_Data = pd.DataFrame({}) #creates empty df\n",
    "\n",
    "for file_name in tqdm(filenames_list): # adds each file from directory on temporary df\n",
    "    temp_df = pd.read_csv('EEG_Data_handMovements/'+file_name)\n",
    "    EEG_Data = EEG_Data.append(temp_df) \n",
    "\n",
<<<<<<< HEAD
    "EEG_Data.to_csv('users.csv') "
=======
    ".to_csv('users.csv') "
>>>>>>> d21d063f5b06ecb6981449914d7ae17ffc156833
   ]
  },
  {
   "cell_type": "code",
   "execution_count": 5,
   "metadata": {},
   "outputs": [],
   "source": [
    "#Weighted average \n",
    "df_std = EEG_Data[EEG_Data.columns.drop(list(EEG_Data.filter(regex='m')))] #dropping all columns with mean values 'm'\n",
    "df_std.columns\n",
    "\n",
    "df_std.to_csv('weighted_avg.csv') "
   ]
  },
  {
   "cell_type": "code",
   "execution_count": 4,
   "metadata": {},
   "outputs": [],
   "source": [
    "#Mean average \n",
    "df_m = EEG_Data[EEG_Data.columns.drop(list(EEG_Data.filter(regex='std')))]\n",
    "df_m.columns\n",
    "\n",
    "df_m.to_csv('mean_avg.csv') "
   ]
  },
  {
   "cell_type": "code",
<<<<<<< HEAD
   "execution_count": 34,
   "metadata": {},
   "outputs": [],
   "source": [
    "EEG_Data.head() #visualize\n",
    "EEG_Data.columns  \n",
    "\n",
    "all_columns=['Class','AF3 delta std','AF3 delta m','AF3 theta std','AF3 theta m','AF3 alpha std','AF3 alpha m','AF3 beta std','AF3 beta m','F7 delta std','F7 delta m','F7 theta std','F7 theta m','F7 alpha std','F7 alpha m','F7 beta std','F7 beta m','F3 delta std','F3 delta m','F3 theta std','F3 theta m','F3 alpha std','F3 alpha m','F3 beta std','F3 beta m','FC5 delta std','FC5 delta m','FC5 theta std','FC5 theta m','FC5 alpha std','FC5 alpha m','FC5 beta std','FC5 beta m','T7 delta std','T7 delta m','T7 theta std','T7 theta m','T7 alpha std','T7 alpha m','T7 beta std','T7 beta m','P7 delta std','P7 delta m','P7 theta std','P7 theta m','P7 alpha std','P7 alpha m','P7 beta std','P7 beta m','O1 delta std','O1 delta m','O1 theta std','O1 theta m','O1 alpha std','O1 alpha m','O1 beta std','O1 beta m','O2 delta std','O2 delta m','O2 theta std','O2 theta m','O2 alpha std','O2 alpha m','O2 beta std','O2 beta m','P8 delta std','P8 delta m','P8 theta std','P8 theta m','P8 alpha std','P8 alpha m','P8 beta std','P8 beta m','T8 delta std','T8 delta m','T8 theta std','T8 theta m','T8 alpha std','T8 alpha m','T8 beta std','T8 beta m','FC6 delta std','FC6 delta m','FC6 theta std','FC6 theta m','FC6 alpha std','FC6 alpha m','FC6 beta std','FC6 beta m','F4 delta std','F4 delta m','F4 theta std','F4 theta m','F4 alpha std','F4 alpha m','F4 beta std','F4 beta m','F8 delta std','F8 delta_m','F8 theta std','F8 theta m','F8 alpha std','F8 alpha m','F8 beta std','F8 beta m','AF4 delta std','AF4 delta m','AF4 theta std','AF4 theta m','AF4 alpha std','AF4 alpha m','AF4 beta std','AF4 beta m']\n",
    "column_names=['AF3 delta std','AF3 delta m','AF3 theta std','AF3 theta m','AF3 alpha std','AF3 alpha m','AF3 beta std','AF3 beta m','F7 delta std','F7 delta m','F7 theta std','F7 theta m','F7 alpha std','F7 alpha m','F7 beta std','F7 beta m','F3 delta std','F3 delta m','F3 theta std','F3 theta m','F3 alpha std','F3 alpha m','F3 beta std','F3 beta m','FC5 delta std','FC5 delta m','FC5 theta std','FC5 theta m','FC5 alpha std','FC5 alpha m','FC5 beta std','FC5 beta m','T7 delta std','T7 delta m','T7 theta std','T7 theta m','T7 alpha std','T7 alpha m','T7 beta std','T7 beta m','P7 delta std','P7 delta m','P7 theta std','P7 theta m','P7 alpha std','P7 alpha m','P7 beta std','P7 beta m','O1 delta std','O1 delta m','O1 theta std','O1 theta m','O1 alpha std','O1 alpha m','O1 beta std','O1 beta m','O2 delta std','O2 delta m','O2 theta std','O2 theta m','O2 alpha std','O2 alpha m','O2 beta std','O2 beta m','P8 delta std','P8 delta m','P8 theta std','P8 theta m','P8 alpha std','P8 alpha m','P8 beta std','P8 beta m','T8 delta std','T8 delta m','T8 theta std','T8 theta m','T8 alpha std','T8 alpha m','T8 beta std','T8 beta m','FC6 delta std','FC6 delta m','FC6 theta std','FC6 theta m','FC6 alpha std','FC6 alpha m','FC6 beta std','FC6 beta m','F4 delta std','F4 delta m','F4 theta std','F4 theta m','F4 alpha std','F4 alpha m','F4 beta std','F4 beta m','F8 delta std','F8 delta_m','F8 theta std','F8 theta m','F8 alpha std','F8 alpha m','F8 beta std','F8 beta m','AF4 delta std','AF4 delta m','AF4 theta std','AF4 theta m','AF4 alpha std','AF4 alpha m','AF4 beta std','AF4 beta m']"
=======
   "execution_count": 6,
   "metadata": {},
   "outputs": [
    {
     "data": {
      "text/plain": [
       "Index(['Unnamed: 0', 'Class', 'AF3 delta std', 'AF3 delta m', 'AF3 theta std',\n",
       "       'AF3 theta m', 'AF3 alpha std', 'AF3 alpha m', 'AF3 beta std',\n",
       "       'AF3 beta m',\n",
       "       ...\n",
       "       'F8 beta std', 'F8 beta m', 'AF4 delta std', 'AF4 delta m',\n",
       "       'AF4 theta std', 'AF4 theta m', 'AF4 alpha std', 'AF4 alpha m',\n",
       "       'AF4 beta std', 'AF4 beta m'],\n",
       "      dtype='object', length=114)"
      ]
     },
     "execution_count": 6,
     "metadata": {},
     "output_type": "execute_result"
    }
   ],
   "source": [
    "EEG_Data.head() #visualize\n",
    "EEG_Data.columns  "
>>>>>>> d21d063f5b06ecb6981449914d7ae17ffc156833
   ]
  },
  {
   "cell_type": "code",
<<<<<<< HEAD
   "execution_count": null,
   "metadata": {},
   "outputs": [],
=======
   "execution_count": 6,
   "metadata": {},
   "outputs": [
    {
     "data": {
      "text/html": [
       "<div>\n",
       "<style scoped>\n",
       "    .dataframe tbody tr th:only-of-type {\n",
       "        vertical-align: middle;\n",
       "    }\n",
       "\n",
       "    .dataframe tbody tr th {\n",
       "        vertical-align: top;\n",
       "    }\n",
       "\n",
       "    .dataframe thead th {\n",
       "        text-align: right;\n",
       "    }\n",
       "</style>\n",
       "<table border=\"1\" class=\"dataframe\">\n",
       "  <thead>\n",
       "    <tr style=\"text-align: right;\">\n",
       "      <th></th>\n",
       "      <th>Class</th>\n",
       "      <th>AF3 delta m</th>\n",
       "      <th>AF3 theta m</th>\n",
       "      <th>AF3 alpha m</th>\n",
       "      <th>AF3 beta m</th>\n",
       "      <th>F7 delta m</th>\n",
       "      <th>F7 theta m</th>\n",
       "      <th>F7 alpha m</th>\n",
       "      <th>F7 beta m</th>\n",
       "      <th>F3 delta m</th>\n",
       "      <th>...</th>\n",
       "      <th>F4 alpha m</th>\n",
       "      <th>F4 beta m</th>\n",
       "      <th>F8 delta_m</th>\n",
       "      <th>F8 theta m</th>\n",
       "      <th>F8 alpha m</th>\n",
       "      <th>F8 beta m</th>\n",
       "      <th>AF4 delta m</th>\n",
       "      <th>AF4 theta m</th>\n",
       "      <th>AF4 alpha m</th>\n",
       "      <th>AF4 beta m</th>\n",
       "    </tr>\n",
       "  </thead>\n",
       "  <tbody>\n",
       "    <tr>\n",
       "      <th>0</th>\n",
       "      <td>1.0</td>\n",
       "      <td>2063.892754</td>\n",
       "      <td>4.444736</td>\n",
       "      <td>3.002088</td>\n",
       "      <td>3.302739</td>\n",
       "      <td>2060.239057</td>\n",
       "      <td>2.279398</td>\n",
       "      <td>1.960079</td>\n",
       "      <td>2.038977</td>\n",
       "      <td>2180.647682</td>\n",
       "      <td>...</td>\n",
       "      <td>2.634124</td>\n",
       "      <td>5.380652</td>\n",
       "      <td>2157.675046</td>\n",
       "      <td>37.374199</td>\n",
       "      <td>40.854795</td>\n",
       "      <td>72.508750</td>\n",
       "      <td>2182.676835</td>\n",
       "      <td>41.349662</td>\n",
       "      <td>42.046467</td>\n",
       "      <td>73.565719</td>\n",
       "    </tr>\n",
       "    <tr>\n",
       "      <th>1</th>\n",
       "      <td>1.0</td>\n",
       "      <td>2063.099248</td>\n",
       "      <td>3.728823</td>\n",
       "      <td>1.854353</td>\n",
       "      <td>2.546458</td>\n",
       "      <td>2059.969372</td>\n",
       "      <td>1.971073</td>\n",
       "      <td>1.637064</td>\n",
       "      <td>2.117719</td>\n",
       "      <td>2177.507069</td>\n",
       "      <td>...</td>\n",
       "      <td>3.215416</td>\n",
       "      <td>4.803989</td>\n",
       "      <td>2156.011819</td>\n",
       "      <td>35.553815</td>\n",
       "      <td>28.408800</td>\n",
       "      <td>66.931186</td>\n",
       "      <td>2180.197439</td>\n",
       "      <td>38.012788</td>\n",
       "      <td>29.431054</td>\n",
       "      <td>67.470041</td>\n",
       "    </tr>\n",
       "    <tr>\n",
       "      <th>2</th>\n",
       "      <td>1.0</td>\n",
       "      <td>2062.445859</td>\n",
       "      <td>2.574504</td>\n",
       "      <td>1.958819</td>\n",
       "      <td>2.258622</td>\n",
       "      <td>2059.543651</td>\n",
       "      <td>1.222808</td>\n",
       "      <td>2.642443</td>\n",
       "      <td>1.846020</td>\n",
       "      <td>2176.284578</td>\n",
       "      <td>...</td>\n",
       "      <td>2.715756</td>\n",
       "      <td>4.599409</td>\n",
       "      <td>2153.555265</td>\n",
       "      <td>24.464488</td>\n",
       "      <td>17.791111</td>\n",
       "      <td>66.816547</td>\n",
       "      <td>2176.823208</td>\n",
       "      <td>23.612639</td>\n",
       "      <td>19.555084</td>\n",
       "      <td>67.781924</td>\n",
       "    </tr>\n",
       "    <tr>\n",
       "      <th>3</th>\n",
       "      <td>1.0</td>\n",
       "      <td>2062.112673</td>\n",
       "      <td>3.610507</td>\n",
       "      <td>2.155876</td>\n",
       "      <td>2.233711</td>\n",
       "      <td>2059.317489</td>\n",
       "      <td>1.478831</td>\n",
       "      <td>2.539217</td>\n",
       "      <td>1.562917</td>\n",
       "      <td>2181.935715</td>\n",
       "      <td>...</td>\n",
       "      <td>2.762906</td>\n",
       "      <td>4.474138</td>\n",
       "      <td>2157.968999</td>\n",
       "      <td>31.842462</td>\n",
       "      <td>20.793709</td>\n",
       "      <td>63.915386</td>\n",
       "      <td>2177.089059</td>\n",
       "      <td>29.484396</td>\n",
       "      <td>25.713513</td>\n",
       "      <td>65.031031</td>\n",
       "    </tr>\n",
       "    <tr>\n",
       "      <th>4</th>\n",
       "      <td>1.0</td>\n",
       "      <td>2063.128867</td>\n",
       "      <td>3.384311</td>\n",
       "      <td>1.795798</td>\n",
       "      <td>1.909810</td>\n",
       "      <td>2059.139105</td>\n",
       "      <td>1.891311</td>\n",
       "      <td>2.279256</td>\n",
       "      <td>1.570490</td>\n",
       "      <td>2178.202288</td>\n",
       "      <td>...</td>\n",
       "      <td>3.165612</td>\n",
       "      <td>4.442776</td>\n",
       "      <td>2150.633349</td>\n",
       "      <td>29.050032</td>\n",
       "      <td>34.349046</td>\n",
       "      <td>64.534645</td>\n",
       "      <td>2167.798335</td>\n",
       "      <td>26.374975</td>\n",
       "      <td>35.675266</td>\n",
       "      <td>66.956313</td>\n",
       "    </tr>\n",
       "  </tbody>\n",
       "</table>\n",
       "<p>5 rows × 57 columns</p>\n",
       "</div>"
      ],
      "text/plain": [
       "   Class  AF3 delta m  AF3 theta m  AF3 alpha m  AF3 beta m   F7 delta m  \\\n",
       "0    1.0  2063.892754     4.444736     3.002088    3.302739  2060.239057   \n",
       "1    1.0  2063.099248     3.728823     1.854353    2.546458  2059.969372   \n",
       "2    1.0  2062.445859     2.574504     1.958819    2.258622  2059.543651   \n",
       "3    1.0  2062.112673     3.610507     2.155876    2.233711  2059.317489   \n",
       "4    1.0  2063.128867     3.384311     1.795798    1.909810  2059.139105   \n",
       "\n",
       "   F7 theta m  F7 alpha m  F7 beta m   F3 delta m  ...  F4 alpha m  F4 beta m  \\\n",
       "0    2.279398    1.960079   2.038977  2180.647682  ...    2.634124   5.380652   \n",
       "1    1.971073    1.637064   2.117719  2177.507069  ...    3.215416   4.803989   \n",
       "2    1.222808    2.642443   1.846020  2176.284578  ...    2.715756   4.599409   \n",
       "3    1.478831    2.539217   1.562917  2181.935715  ...    2.762906   4.474138   \n",
       "4    1.891311    2.279256   1.570490  2178.202288  ...    3.165612   4.442776   \n",
       "\n",
       "    F8 delta_m  F8 theta m  F8 alpha m  F8 beta m  AF4 delta m  AF4 theta m  \\\n",
       "0  2157.675046   37.374199   40.854795  72.508750  2182.676835    41.349662   \n",
       "1  2156.011819   35.553815   28.408800  66.931186  2180.197439    38.012788   \n",
       "2  2153.555265   24.464488   17.791111  66.816547  2176.823208    23.612639   \n",
       "3  2157.968999   31.842462   20.793709  63.915386  2177.089059    29.484396   \n",
       "4  2150.633349   29.050032   34.349046  64.534645  2167.798335    26.374975   \n",
       "\n",
       "   AF4 alpha m  AF4 beta m  \n",
       "0    42.046467   73.565719  \n",
       "1    29.431054   67.470041  \n",
       "2    19.555084   67.781924  \n",
       "3    25.713513   65.031031  \n",
       "4    35.675266   66.956313  \n",
       "\n",
       "[5 rows x 57 columns]"
      ]
     },
     "execution_count": 6,
     "metadata": {},
     "output_type": "execute_result"
    }
   ],
>>>>>>> d21d063f5b06ecb6981449914d7ae17ffc156833
   "source": [
    "df_m.head()"
   ]
  },
  {
   "cell_type": "code",
<<<<<<< HEAD
   "execution_count": null,
   "metadata": {},
   "outputs": [],
   "source": [
    "df_std.head()"
   ]
  },
  {
   "cell_type": "code",
   "execution_count": 35,
=======
   "execution_count": 7,
>>>>>>> d21d063f5b06ecb6981449914d7ae17ffc156833
   "metadata": {},
   "outputs": [
    {
     "data": {
      "text/html": [
       "<div>\n",
       "<style scoped>\n",
       "    .dataframe tbody tr th:only-of-type {\n",
       "        vertical-align: middle;\n",
       "    }\n",
       "\n",
       "    .dataframe tbody tr th {\n",
       "        vertical-align: top;\n",
       "    }\n",
       "\n",
       "    .dataframe thead th {\n",
       "        text-align: right;\n",
       "    }\n",
       "</style>\n",
       "<table border=\"1\" class=\"dataframe\">\n",
       "  <thead>\n",
       "    <tr style=\"text-align: right;\">\n",
       "      <th></th>\n",
       "      <th>Class</th>\n",
       "      <th>AF3 delta std</th>\n",
<<<<<<< HEAD
       "      <th>AF3 delta m</th>\n",
       "      <th>AF3 theta std</th>\n",
       "      <th>AF3 theta m</th>\n",
       "      <th>AF3 alpha std</th>\n",
       "      <th>AF3 alpha m</th>\n",
       "      <th>AF3 beta std</th>\n",
       "      <th>AF3 beta m</th>\n",
       "      <th>F7 delta std</th>\n",
       "      <th>...</th>\n",
       "      <th>F8 beta std</th>\n",
       "      <th>F8 beta m</th>\n",
       "      <th>AF4 delta std</th>\n",
       "      <th>AF4 delta m</th>\n",
       "      <th>AF4 theta std</th>\n",
       "      <th>AF4 theta m</th>\n",
       "      <th>AF4 alpha std</th>\n",
       "      <th>AF4 alpha m</th>\n",
       "      <th>AF4 beta std</th>\n",
       "      <th>AF4 beta m</th>\n",
=======
       "      <th>AF3 theta std</th>\n",
       "      <th>AF3 alpha std</th>\n",
       "      <th>AF3 beta std</th>\n",
       "      <th>F7 delta std</th>\n",
       "      <th>F7 theta std</th>\n",
       "      <th>F7 alpha std</th>\n",
       "      <th>F7 beta std</th>\n",
       "      <th>F3 delta std</th>\n",
       "      <th>...</th>\n",
       "      <th>F4 alpha std</th>\n",
       "      <th>F4 beta std</th>\n",
       "      <th>F8 delta std</th>\n",
       "      <th>F8 theta std</th>\n",
       "      <th>F8 alpha std</th>\n",
       "      <th>F8 beta std</th>\n",
       "      <th>AF4 delta std</th>\n",
       "      <th>AF4 theta std</th>\n",
       "      <th>AF4 alpha std</th>\n",
       "      <th>AF4 beta std</th>\n",
>>>>>>> d21d063f5b06ecb6981449914d7ae17ffc156833
       "    </tr>\n",
       "  </thead>\n",
       "  <tbody>\n",
       "    <tr>\n",
       "      <th>0</th>\n",
       "      <td>1.0</td>\n",
<<<<<<< HEAD
       "      <td>0.009311</td>\n",
       "      <td>0.009313</td>\n",
       "      <td>0.012881</td>\n",
       "      <td>0.015021</td>\n",
       "      <td>0.004803</td>\n",
       "      <td>0.011879</td>\n",
       "      <td>0.005595</td>\n",
       "      <td>0.009634</td>\n",
       "      <td>0.009305</td>\n",
       "      <td>...</td>\n",
       "      <td>0.024823</td>\n",
       "      <td>0.036521</td>\n",
       "      <td>0.009635</td>\n",
       "      <td>0.009790</td>\n",
       "      <td>0.038013</td>\n",
       "      <td>0.033612</td>\n",
       "      <td>0.031620</td>\n",
       "      <td>0.034734</td>\n",
       "      <td>0.021723</td>\n",
       "      <td>0.032796</td>\n",
=======
       "      <td>3569.164550</td>\n",
       "      <td>1.673726</td>\n",
       "      <td>0.526209</td>\n",
       "      <td>1.425022</td>\n",
       "      <td>3563.803888</td>\n",
       "      <td>1.404089</td>\n",
       "      <td>1.297401</td>\n",
       "      <td>0.759956</td>\n",
       "      <td>3709.009712</td>\n",
       "      <td>...</td>\n",
       "      <td>0.919419</td>\n",
       "      <td>3.348698</td>\n",
       "      <td>3665.336755</td>\n",
       "      <td>15.543111</td>\n",
       "      <td>15.907312</td>\n",
       "      <td>45.468326</td>\n",
       "      <td>3701.186330</td>\n",
       "      <td>18.192418</td>\n",
       "      <td>16.004756</td>\n",
       "      <td>46.280843</td>\n",
>>>>>>> d21d063f5b06ecb6981449914d7ae17ffc156833
       "    </tr>\n",
       "    <tr>\n",
       "      <th>1</th>\n",
       "      <td>1.0</td>\n",
<<<<<<< HEAD
       "      <td>0.009309</td>\n",
       "      <td>0.009309</td>\n",
       "      <td>0.014605</td>\n",
       "      <td>0.012602</td>\n",
       "      <td>0.011903</td>\n",
       "      <td>0.007337</td>\n",
       "      <td>0.005365</td>\n",
       "      <td>0.007428</td>\n",
       "      <td>0.009304</td>\n",
       "      <td>...</td>\n",
       "      <td>0.019955</td>\n",
       "      <td>0.033712</td>\n",
       "      <td>0.009698</td>\n",
       "      <td>0.009779</td>\n",
       "      <td>0.018431</td>\n",
       "      <td>0.030900</td>\n",
       "      <td>0.038725</td>\n",
       "      <td>0.024312</td>\n",
       "      <td>0.018099</td>\n",
       "      <td>0.030079</td>\n",
=======
       "      <td>3568.423670</td>\n",
       "      <td>1.897790</td>\n",
       "      <td>1.304186</td>\n",
       "      <td>1.366575</td>\n",
       "      <td>3563.560922</td>\n",
       "      <td>0.694171</td>\n",
       "      <td>0.756398</td>\n",
       "      <td>0.963158</td>\n",
       "      <td>3721.781859</td>\n",
       "      <td>...</td>\n",
       "      <td>0.352964</td>\n",
       "      <td>3.412938</td>\n",
       "      <td>3679.285737</td>\n",
       "      <td>9.227783</td>\n",
       "      <td>18.089263</td>\n",
       "      <td>36.551948</td>\n",
       "      <td>3725.210509</td>\n",
       "      <td>8.820788</td>\n",
       "      <td>19.601233</td>\n",
       "      <td>38.559351</td>\n",
>>>>>>> d21d063f5b06ecb6981449914d7ae17ffc156833
       "    </tr>\n",
       "    <tr>\n",
       "      <th>2</th>\n",
       "      <td>1.0</td>\n",
<<<<<<< HEAD
       "      <td>0.009308</td>\n",
       "      <td>0.009306</td>\n",
       "      <td>0.021534</td>\n",
       "      <td>0.008701</td>\n",
       "      <td>0.010227</td>\n",
       "      <td>0.007751</td>\n",
       "      <td>0.003857</td>\n",
       "      <td>0.006588</td>\n",
       "      <td>0.009303</td>\n",
       "      <td>...</td>\n",
       "      <td>0.022249</td>\n",
       "      <td>0.033654</td>\n",
       "      <td>0.009696</td>\n",
       "      <td>0.009764</td>\n",
       "      <td>0.037944</td>\n",
       "      <td>0.019194</td>\n",
       "      <td>0.028406</td>\n",
       "      <td>0.016154</td>\n",
       "      <td>0.020282</td>\n",
       "      <td>0.030218</td>\n",
=======
       "      <td>3568.157929</td>\n",
       "      <td>2.798014</td>\n",
       "      <td>1.120537</td>\n",
       "      <td>0.982433</td>\n",
       "      <td>3563.279981</td>\n",
       "      <td>0.493677</td>\n",
       "      <td>0.955544</td>\n",
       "      <td>0.725119</td>\n",
       "      <td>3723.289253</td>\n",
       "      <td>...</td>\n",
       "      <td>1.628629</td>\n",
       "      <td>3.462284</td>\n",
       "      <td>3679.393107</td>\n",
       "      <td>19.979258</td>\n",
       "      <td>13.488471</td>\n",
       "      <td>40.754308</td>\n",
       "      <td>3724.417296</td>\n",
       "      <td>18.159202</td>\n",
       "      <td>14.378291</td>\n",
       "      <td>43.210004</td>\n",
>>>>>>> d21d063f5b06ecb6981449914d7ae17ffc156833
       "    </tr>\n",
       "    <tr>\n",
       "      <th>3</th>\n",
       "      <td>1.0</td>\n",
<<<<<<< HEAD
       "      <td>0.009307</td>\n",
       "      <td>0.009305</td>\n",
       "      <td>0.016791</td>\n",
       "      <td>0.012202</td>\n",
       "      <td>0.005746</td>\n",
       "      <td>0.008530</td>\n",
       "      <td>0.003362</td>\n",
       "      <td>0.006515</td>\n",
       "      <td>0.009302</td>\n",
       "      <td>...</td>\n",
       "      <td>0.020787</td>\n",
       "      <td>0.032193</td>\n",
       "      <td>0.009699</td>\n",
       "      <td>0.009765</td>\n",
       "      <td>0.041242</td>\n",
       "      <td>0.023967</td>\n",
       "      <td>0.031201</td>\n",
       "      <td>0.021241</td>\n",
       "      <td>0.018423</td>\n",
       "      <td>0.028991</td>\n",
=======
       "      <td>3567.710021</td>\n",
       "      <td>2.181775</td>\n",
       "      <td>0.629608</td>\n",
       "      <td>0.856275</td>\n",
       "      <td>3562.787801</td>\n",
       "      <td>0.509250</td>\n",
       "      <td>0.848642</td>\n",
       "      <td>1.013335</td>\n",
       "      <td>3727.061652</td>\n",
       "      <td>...</td>\n",
       "      <td>1.487142</td>\n",
       "      <td>2.735184</td>\n",
       "      <td>3685.034466</td>\n",
       "      <td>19.918259</td>\n",
       "      <td>12.808064</td>\n",
       "      <td>38.074628</td>\n",
       "      <td>3725.822160</td>\n",
       "      <td>19.737616</td>\n",
       "      <td>15.793034</td>\n",
       "      <td>39.250246</td>\n",
>>>>>>> d21d063f5b06ecb6981449914d7ae17ffc156833
       "    </tr>\n",
       "    <tr>\n",
       "      <th>4</th>\n",
       "      <td>1.0</td>\n",
<<<<<<< HEAD
       "      <td>0.009301</td>\n",
       "      <td>0.009309</td>\n",
       "      <td>0.012969</td>\n",
       "      <td>0.011437</td>\n",
       "      <td>0.006184</td>\n",
       "      <td>0.007106</td>\n",
       "      <td>0.003643</td>\n",
       "      <td>0.005571</td>\n",
       "      <td>0.009302</td>\n",
       "      <td>...</td>\n",
       "      <td>0.019303</td>\n",
       "      <td>0.032504</td>\n",
       "      <td>0.009692</td>\n",
       "      <td>0.009723</td>\n",
       "      <td>0.017613</td>\n",
       "      <td>0.021440</td>\n",
       "      <td>0.029478</td>\n",
       "      <td>0.029471</td>\n",
       "      <td>0.015913</td>\n",
       "      <td>0.029850</td>\n",
       "    </tr>\n",
       "  </tbody>\n",
       "</table>\n",
       "<p>5 rows × 113 columns</p>\n",
       "</div>"
      ],
      "text/plain": [
       "   Class  AF3 delta std  AF3 delta m  AF3 theta std  AF3 theta m  \\\n",
       "0    1.0       0.009311     0.009313       0.012881     0.015021   \n",
       "1    1.0       0.009309     0.009309       0.014605     0.012602   \n",
       "2    1.0       0.009308     0.009306       0.021534     0.008701   \n",
       "3    1.0       0.009307     0.009305       0.016791     0.012202   \n",
       "4    1.0       0.009301     0.009309       0.012969     0.011437   \n",
       "\n",
       "   AF3 alpha std  AF3 alpha m  AF3 beta std  AF3 beta m  F7 delta std  ...  \\\n",
       "0       0.004803     0.011879      0.005595    0.009634      0.009305  ...   \n",
       "1       0.011903     0.007337      0.005365    0.007428      0.009304  ...   \n",
       "2       0.010227     0.007751      0.003857    0.006588      0.009303  ...   \n",
       "3       0.005746     0.008530      0.003362    0.006515      0.009302  ...   \n",
       "4       0.006184     0.007106      0.003643    0.005571      0.009302  ...   \n",
       "\n",
       "   F8 beta std  F8 beta m  AF4 delta std  AF4 delta m  AF4 theta std  \\\n",
       "0     0.024823   0.036521       0.009635     0.009790       0.038013   \n",
       "1     0.019955   0.033712       0.009698     0.009779       0.018431   \n",
       "2     0.022249   0.033654       0.009696     0.009764       0.037944   \n",
       "3     0.020787   0.032193       0.009699     0.009765       0.041242   \n",
       "4     0.019303   0.032504       0.009692     0.009723       0.017613   \n",
       "\n",
       "   AF4 theta m  AF4 alpha std  AF4 alpha m  AF4 beta std  AF4 beta m  \n",
       "0     0.033612       0.031620     0.034734      0.021723    0.032796  \n",
       "1     0.030900       0.038725     0.024312      0.018099    0.030079  \n",
       "2     0.019194       0.028406     0.016154      0.020282    0.030218  \n",
       "3     0.023967       0.031201     0.021241      0.018423    0.028991  \n",
       "4     0.021440       0.029478     0.029471      0.015913    0.029850  \n",
       "\n",
       "[5 rows x 113 columns]"
      ]
     },
     "execution_count": 35,
=======
       "      <td>3565.546124</td>\n",
       "      <td>1.685161</td>\n",
       "      <td>0.677526</td>\n",
       "      <td>0.927924</td>\n",
       "      <td>3562.655091</td>\n",
       "      <td>0.618655</td>\n",
       "      <td>1.194787</td>\n",
       "      <td>0.809706</td>\n",
       "      <td>3730.834377</td>\n",
       "      <td>...</td>\n",
       "      <td>0.983648</td>\n",
       "      <td>2.492116</td>\n",
       "      <td>3687.573738</td>\n",
       "      <td>5.319542</td>\n",
       "      <td>9.947893</td>\n",
       "      <td>35.357384</td>\n",
       "      <td>3723.053978</td>\n",
       "      <td>8.429414</td>\n",
       "      <td>14.920736</td>\n",
       "      <td>33.901687</td>\n",
       "    </tr>\n",
       "  </tbody>\n",
       "</table>\n",
       "<p>5 rows × 57 columns</p>\n",
       "</div>"
      ],
      "text/plain": [
       "   Class  AF3 delta std  AF3 theta std  AF3 alpha std  AF3 beta std  \\\n",
       "0    1.0    3569.164550       1.673726       0.526209      1.425022   \n",
       "1    1.0    3568.423670       1.897790       1.304186      1.366575   \n",
       "2    1.0    3568.157929       2.798014       1.120537      0.982433   \n",
       "3    1.0    3567.710021       2.181775       0.629608      0.856275   \n",
       "4    1.0    3565.546124       1.685161       0.677526      0.927924   \n",
       "\n",
       "   F7 delta std  F7 theta std  F7 alpha std  F7 beta std  F3 delta std  ...  \\\n",
       "0   3563.803888      1.404089      1.297401     0.759956   3709.009712  ...   \n",
       "1   3563.560922      0.694171      0.756398     0.963158   3721.781859  ...   \n",
       "2   3563.279981      0.493677      0.955544     0.725119   3723.289253  ...   \n",
       "3   3562.787801      0.509250      0.848642     1.013335   3727.061652  ...   \n",
       "4   3562.655091      0.618655      1.194787     0.809706   3730.834377  ...   \n",
       "\n",
       "   F4 alpha std  F4 beta std  F8 delta std  F8 theta std  F8 alpha std  \\\n",
       "0      0.919419     3.348698   3665.336755     15.543111     15.907312   \n",
       "1      0.352964     3.412938   3679.285737      9.227783     18.089263   \n",
       "2      1.628629     3.462284   3679.393107     19.979258     13.488471   \n",
       "3      1.487142     2.735184   3685.034466     19.918259     12.808064   \n",
       "4      0.983648     2.492116   3687.573738      5.319542      9.947893   \n",
       "\n",
       "   F8 beta std  AF4 delta std  AF4 theta std  AF4 alpha std  AF4 beta std  \n",
       "0    45.468326    3701.186330      18.192418      16.004756     46.280843  \n",
       "1    36.551948    3725.210509       8.820788      19.601233     38.559351  \n",
       "2    40.754308    3724.417296      18.159202      14.378291     43.210004  \n",
       "3    38.074628    3725.822160      19.737616      15.793034     39.250246  \n",
       "4    35.357384    3723.053978       8.429414      14.920736     33.901687  \n",
       "\n",
       "[5 rows x 57 columns]"
      ]
     },
     "execution_count": 7,
>>>>>>> d21d063f5b06ecb6981449914d7ae17ffc156833
     "metadata": {},
     "output_type": "execute_result"
    }
   ],
   "source": [
<<<<<<< HEAD
    "#Data normalization\n",
    "\n",
    "EEG_Data[column_names] = preprocessing.normalize(EEG_Data[column_names], axis=0)\n",
    "df = pd.DataFrame(EEG_Data, columns=all_columns)\n",
    "df.head()\n",
    "\n"
   ]
  },
  {
   "cell_type": "code",
   "execution_count": 59,
   "metadata": {},
   "outputs": [],
   "source": [
    "df.to_csv('normalized_EEG') "
=======
    "df_std.head()"
>>>>>>> d21d063f5b06ecb6981449914d7ae17ffc156833
   ]
  },
  {
   "cell_type": "code",
<<<<<<< HEAD
   "execution_count": 36,
=======
   "execution_count": 7,
>>>>>>> d21d063f5b06ecb6981449914d7ae17ffc156833
   "metadata": {},
   "outputs": [],
   "source": [
    "#creating x and y training sets\n",
    "\n",
<<<<<<< HEAD
    "x = df[['AF3 delta std','AF3 delta m','AF3 theta std','AF3 theta m','AF3 alpha std','AF3 alpha m','AF3 beta std','AF3 beta m','F7 delta std','F7 delta m','F7 theta std','F7 theta m','F7 alpha std','F7 alpha m','F7 beta std','F7 beta m','F3 delta std','F3 delta m','F3 theta std','F3 theta m','F3 alpha std','F3 alpha m','F3 beta std','F3 beta m','FC5 delta std','FC5 delta m','FC5 theta std','FC5 theta m','FC5 alpha std','FC5 alpha m','FC5 beta std','FC5 beta m','T7 delta std','T7 delta m','T7 theta std','T7 theta m','T7 alpha std','T7 alpha m','T7 beta std','T7 beta m','P7 delta std','P7 delta m','P7 theta std','P7 theta m','P7 alpha std','P7 alpha m','P7 beta std','P7 beta m','O1 delta std','O1 delta m','O1 theta std','O1 theta m','O1 alpha std','O1 alpha m','O1 beta std','O1 beta m','O2 delta std','O2 delta m','O2 theta std','O2 theta m','O2 alpha std','O2 alpha m','O2 beta std','O2 beta m','P8 delta std','P8 delta m','P8 theta std','P8 theta m','P8 alpha std','P8 alpha m','P8 beta std','P8 beta m','T8 delta std','T8 delta m','T8 theta std','T8 theta m','T8 alpha std','T8 alpha m','T8 beta std','T8 beta m','FC6 delta std','FC6 delta m','FC6 theta std','FC6 theta m','FC6 alpha std','FC6 alpha m','FC6 beta std','FC6 beta m','F4 delta std','F4 delta m','F4 theta std','F4 theta m','F4 alpha std','F4 alpha m','F4 beta std','F4 beta m','F8 delta std','F8 delta_m','F8 theta std','F8 theta m','F8 alpha std','F8 alpha m','F8 beta std','F8 beta m','AF4 delta std','AF4 delta m','AF4 theta std','AF4 theta m','AF4 alpha std','AF4 alpha m','AF4 beta std','AF4 beta m']]\n",
    "y = df['Class']"
=======
    "x = EEG_Data[['AF3 delta std','AF3 delta m','AF3 theta std','AF3 theta m','AF3 alpha std','AF3 alpha m','AF3 beta std','AF3 beta m','F7 delta std','F7 delta m','F7 theta std','F7 theta m','F7 alpha std','F7 alpha m','F7 beta std','F7 beta m','F3 delta std','F3 delta m','F3 theta std','F3 theta m','F3 alpha std','F3 alpha m','F3 beta std','F3 beta m','FC5 delta std','FC5 delta m','FC5 theta std','FC5 theta m','FC5 alpha std','FC5 alpha m','FC5 beta std','FC5 beta m','T7 delta std','T7 delta m','T7 theta std','T7 theta m','T7 alpha std','T7 alpha m','T7 beta std','T7 beta m','P7 delta std','P7 delta m','P7 theta std','P7 theta m','P7 alpha std','P7 alpha m','P7 beta std','P7 beta m','O1 delta std','O1 delta m','O1 theta std','O1 theta m','O1 alpha std','O1 alpha m','O1 beta std','O1 beta m','O2 delta std','O2 delta m','O2 theta std','O2 theta m','O2 alpha std','O2 alpha m','O2 beta std','O2 beta m','P8 delta std','P8 delta m','P8 theta std','P8 theta m','P8 alpha std','P8 alpha m','P8 beta std','P8 beta m','T8 delta std','T8 delta m','T8 theta std','T8 theta m','T8 alpha std','T8 alpha m','T8 beta std','T8 beta m','FC6 delta std','FC6 delta m','FC6 theta std','FC6 theta m','FC6 alpha std','FC6 alpha m','FC6 beta std','FC6 beta m','F4 delta std','F4 delta m','F4 theta std','F4 theta m','F4 alpha std','F4 alpha m','F4 beta std','F4 beta m','F8 delta std','F8 delta_m','F8 theta std','F8 theta m','F8 alpha std','F8 alpha m','F8 beta std','F8 beta m','AF4 delta std','AF4 delta m','AF4 theta std','AF4 theta m','AF4 alpha std','AF4 alpha m','AF4 beta std','AF4 beta m']]\n",
    "y = EEG_Data['Class']"
>>>>>>> d21d063f5b06ecb6981449914d7ae17ffc156833
   ]
  },
  {
   "cell_type": "code",
   "execution_count": 9,
   "metadata": {},
   "outputs": [],
   "source": [
    "#creating x and y training sets\n",
    "#WEIGHTED AVERAGE\n",
    "\n",
    "x_std = df_std[['AF3 delta std', 'AF3 theta std', 'AF3 alpha std',\n",
    "       'AF3 beta std', 'F7 delta std', 'F7 theta std', 'F7 alpha std',\n",
    "       'F7 beta std', 'F3 delta std', 'F3 theta std', 'F3 alpha std',\n",
    "       'F3 beta std', 'FC5 delta std', 'FC5 theta std', 'FC5 alpha std',\n",
    "       'FC5 beta std', 'T7 delta std', 'T7 theta std', 'T7 alpha std',\n",
    "       'T7 beta std', 'P7 delta std', 'P7 theta std', 'P7 alpha std',\n",
    "       'P7 beta std', 'O1 delta std', 'O1 theta std', 'O1 alpha std',\n",
    "       'O1 beta std', 'O2 delta std', 'O2 theta std', 'O2 alpha std',\n",
    "       'O2 beta std', 'P8 delta std', 'P8 theta std', 'P8 alpha std',\n",
    "       'P8 beta std', 'T8 delta std', 'T8 theta std', 'T8 alpha std',\n",
    "       'T8 beta std', 'FC6 delta std', 'FC6 theta std', 'FC6 alpha std',\n",
    "       'FC6 beta std', 'F4 delta std', 'F4 theta std', 'F4 alpha std',\n",
    "       'F4 beta std', 'F8 delta std', 'F8 theta std', 'F8 alpha std',\n",
    "       'F8 beta std', 'AF4 delta std', 'AF4 theta std', 'AF4 alpha std',\n",
    "       'AF4 beta std']]\n",
    "y_std = df_std['Class']"
   ]
  },
  {
   "cell_type": "code",
   "execution_count": 10,
   "metadata": {},
   "outputs": [],
   "source": [
    "#creating x and y training sets\n",
    "#Mean average\n",
    "\n",
    "x_m = df_m[['AF3 delta m', 'AF3 theta m', 'AF3 alpha m', 'AF3 beta m',\n",
    "       'F7 delta m', 'F7 theta m', 'F7 alpha m', 'F7 beta m', 'F3 delta m',\n",
    "       'F3 theta m', 'F3 alpha m', 'F3 beta m', 'FC5 delta m', 'FC5 theta m',\n",
    "       'FC5 alpha m', 'FC5 beta m', 'T7 delta m', 'T7 theta m', 'T7 alpha m',\n",
    "       'T7 beta m', 'P7 delta m', 'P7 theta m', 'P7 alpha m', 'P7 beta m',\n",
    "       'O1 delta m', 'O1 theta m', 'O1 alpha m', 'O1 beta m', 'O2 delta m',\n",
    "       'O2 theta m', 'O2 alpha m', 'O2 beta m', 'P8 delta m', 'P8 theta m',\n",
    "       'P8 alpha m', 'P8 beta m', 'T8 delta m', 'T8 theta m', 'T8 alpha m',\n",
    "       'T8 beta m', 'FC6 delta m', 'FC6 theta m', 'FC6 alpha m', 'FC6 beta m',\n",
    "       'F4 delta m', 'F4 theta m', 'F4 alpha m', 'F4 beta m', 'F8 delta_m',\n",
    "       'F8 theta m', 'F8 alpha m', 'F8 beta m', 'AF4 delta m', 'AF4 theta m',\n",
    "       'AF4 alpha m', 'AF4 beta m']]\n",
    "y_m = df_m['Class']"
   ]
  },
  {
   "cell_type": "code",
<<<<<<< HEAD
   "execution_count": 37,
=======
   "execution_count": 8,
>>>>>>> d21d063f5b06ecb6981449914d7ae17ffc156833
   "metadata": {},
   "outputs": [],
   "source": [
    "x_train, x_test, y_train, y_test = train_test_split(x,y,test_size=0.2,random_state=42)  #Train and test split\n",
    "\n",
    "#x_train, x_test, y_train, y_test = train_test_split(x_m,y_m,test_size=0.3, random_state=42) \n",
    "\n",
    "#x_train, x_test, y_train, y_test = train_test_split(x_std,y_std,test_size=0.3, random_state=42) \n"
   ]
  },
  {
   "cell_type": "markdown",
   "metadata": {},
   "source": [
    "Linear Regression"
   ]
  },
  {
   "cell_type": "code",
<<<<<<< HEAD
   "execution_count": 38,
=======
   "execution_count": 9,
>>>>>>> d21d063f5b06ecb6981449914d7ae17ffc156833
   "metadata": {},
   "outputs": [
    {
     "data": {
      "text/html": [
       "<div>\n",
       "<style scoped>\n",
       "    .dataframe tbody tr th:only-of-type {\n",
       "        vertical-align: middle;\n",
       "    }\n",
       "\n",
       "    .dataframe tbody tr th {\n",
       "        vertical-align: top;\n",
       "    }\n",
       "\n",
       "    .dataframe thead th {\n",
       "        text-align: right;\n",
       "    }\n",
       "</style>\n",
       "<table border=\"1\" class=\"dataframe\">\n",
       "  <thead>\n",
       "    <tr style=\"text-align: right;\">\n",
       "      <th></th>\n",
       "      <th>Coefficient</th>\n",
       "    </tr>\n",
       "  </thead>\n",
       "  <tbody>\n",
       "    <tr>\n",
       "      <th>AF3 delta std</th>\n",
<<<<<<< HEAD
       "      <td>5449.995251</td>\n",
       "    </tr>\n",
       "    <tr>\n",
       "      <th>AF3 delta m</th>\n",
       "      <td>-6962.755495</td>\n",
       "    </tr>\n",
       "    <tr>\n",
       "      <th>AF3 theta std</th>\n",
       "      <td>-1.526025</td>\n",
       "    </tr>\n",
       "    <tr>\n",
       "      <th>AF3 theta m</th>\n",
       "      <td>-1.247366</td>\n",
       "    </tr>\n",
       "    <tr>\n",
       "      <th>AF3 alpha std</th>\n",
       "      <td>-0.178132</td>\n",
=======
       "      <td>0.014217</td>\n",
       "    </tr>\n",
       "    <tr>\n",
       "      <th>AF3 delta m</th>\n",
       "      <td>-0.031418</td>\n",
       "    </tr>\n",
       "    <tr>\n",
       "      <th>AF3 theta std</th>\n",
       "      <td>-0.011744</td>\n",
       "    </tr>\n",
       "    <tr>\n",
       "      <th>AF3 theta m</th>\n",
       "      <td>-0.004216</td>\n",
       "    </tr>\n",
       "    <tr>\n",
       "      <th>AF3 alpha std</th>\n",
       "      <td>-0.001626</td>\n",
>>>>>>> d21d063f5b06ecb6981449914d7ae17ffc156833
       "    </tr>\n",
       "    <tr>\n",
       "      <th>...</th>\n",
       "      <td>...</td>\n",
       "    </tr>\n",
       "    <tr>\n",
       "      <th>AF4 theta m</th>\n",
<<<<<<< HEAD
       "      <td>32.782563</td>\n",
       "    </tr>\n",
       "    <tr>\n",
       "      <th>AF4 alpha std</th>\n",
       "      <td>1.314153</td>\n",
       "    </tr>\n",
       "    <tr>\n",
       "      <th>AF4 alpha m</th>\n",
       "      <td>11.533760</td>\n",
       "    </tr>\n",
       "    <tr>\n",
       "      <th>AF4 beta std</th>\n",
       "      <td>-225.769615</td>\n",
       "    </tr>\n",
       "    <tr>\n",
       "      <th>AF4 beta m</th>\n",
       "      <td>-2.923390</td>\n",
=======
       "      <td>0.026648</td>\n",
       "    </tr>\n",
       "    <tr>\n",
       "      <th>AF4 alpha std</th>\n",
       "      <td>0.002596</td>\n",
       "    </tr>\n",
       "    <tr>\n",
       "      <th>AF4 alpha m</th>\n",
       "      <td>0.009528</td>\n",
       "    </tr>\n",
       "    <tr>\n",
       "      <th>AF4 beta std</th>\n",
       "      <td>-0.105973</td>\n",
       "    </tr>\n",
       "    <tr>\n",
       "      <th>AF4 beta m</th>\n",
       "      <td>-0.001303</td>\n",
>>>>>>> d21d063f5b06ecb6981449914d7ae17ffc156833
       "    </tr>\n",
       "  </tbody>\n",
       "</table>\n",
       "<p>112 rows × 1 columns</p>\n",
       "</div>"
      ],
      "text/plain": [
       "               Coefficient\n",
<<<<<<< HEAD
       "AF3 delta std  5449.995251\n",
       "AF3 delta m   -6962.755495\n",
       "AF3 theta std    -1.526025\n",
       "AF3 theta m      -1.247366\n",
       "AF3 alpha std    -0.178132\n",
       "...                    ...\n",
       "AF4 theta m      32.782563\n",
       "AF4 alpha std     1.314153\n",
       "AF4 alpha m      11.533760\n",
       "AF4 beta std   -225.769615\n",
       "AF4 beta m       -2.923390\n",
=======
       "AF3 delta std     0.014217\n",
       "AF3 delta m      -0.031418\n",
       "AF3 theta std    -0.011744\n",
       "AF3 theta m      -0.004216\n",
       "AF3 alpha std    -0.001626\n",
       "...                    ...\n",
       "AF4 theta m       0.026648\n",
       "AF4 alpha std     0.002596\n",
       "AF4 alpha m       0.009528\n",
       "AF4 beta std     -0.105973\n",
       "AF4 beta m       -0.001303\n",
>>>>>>> d21d063f5b06ecb6981449914d7ae17ffc156833
       "\n",
       "[112 rows x 1 columns]"
      ]
     },
<<<<<<< HEAD
     "execution_count": 38,
=======
     "execution_count": 9,
>>>>>>> d21d063f5b06ecb6981449914d7ae17ffc156833
     "metadata": {},
     "output_type": "execute_result"
    }
   ],
   "source": [
    "#training model \n",
    "modelLR = LinearRegression()\n",
    "modelLR=modelLR.fit(x_train,y_train)\n",
    "\n",
    "coeff = pd.DataFrame(modelLR.coef_,x.columns,columns=['Coefficient'])\n",
    "coeff"
   ]
  },
  {
   "cell_type": "code",
<<<<<<< HEAD
   "execution_count": 39,
=======
   "execution_count": 19,
>>>>>>> d21d063f5b06ecb6981449914d7ae17ffc156833
   "metadata": {},
   "outputs": [
    {
     "data": {
      "text/plain": [
<<<<<<< HEAD
       "1078    1.0\n",
       "675     2.0\n",
       "419     0.0\n",
       "2134    2.0\n",
       "2397    0.0\n",
       "Name: Class, dtype: float64"
      ]
     },
     "execution_count": 39,
=======
       "1078     1.0\n",
       "9315     2.0\n",
       "3299     0.0\n",
       "7894     2.0\n",
       "11037    0.0\n",
       "Name: Class, dtype: float64"
      ]
     },
     "execution_count": 19,
>>>>>>> d21d063f5b06ecb6981449914d7ae17ffc156833
     "metadata": {},
     "output_type": "execute_result"
    }
   ],
   "source": [
    "predictionsLR = modelLR.predict(x_test)\n",
    "\n",
    "predictionsLR\n",
    "\n",
    "y_test.head()"
   ]
  },
  {
   "cell_type": "code",
<<<<<<< HEAD
   "execution_count": 40,
=======
   "execution_count": 14,
>>>>>>> d21d063f5b06ecb6981449914d7ae17ffc156833
   "metadata": {},
   "outputs": [
    {
     "name": "stdout",
     "output_type": "stream",
     "text": [
<<<<<<< HEAD
      "MAE:  0.6658677599904548\n",
      "MSE:  0.6242803960738186\n",
      "RMSE:  0.790114166480907\n"
=======
      "MAE:  0.6684288946679158\n",
      "MSE:  0.6231500847354812\n",
      "RMSE:  0.7893985588633167\n"
>>>>>>> d21d063f5b06ecb6981449914d7ae17ffc156833
     ]
    }
   ],
   "source": [
    "#error means\n",
    "print('MAE: ', metrics.mean_absolute_error(y_test,predictionsLR))\n",
    "print('MSE: ', metrics.mean_squared_error(y_test,predictionsLR))\n",
    "print('RMSE: ', np.sqrt(metrics.mean_squared_error(y_test,predictionsLR)))"
   ]
  },
  {
   "cell_type": "markdown",
   "metadata": {},
   "source": [
    "SVM"
   ]
  },
  {
   "cell_type": "code",
<<<<<<< HEAD
   "execution_count": 44,
   "metadata": {},
   "outputs": [],
   "source": [
    "modelSVM=svm.SVC()\n",
    "modelSVM.fit(x_train,y_train)\n",
    "predictSVM = modelSVM.predict(x_test)"
=======
   "execution_count": 18,
   "metadata": {},
   "outputs": [
    {
     "data": {
      "text/html": [
       "<div>\n",
       "<style scoped>\n",
       "    .dataframe tbody tr th:only-of-type {\n",
       "        vertical-align: middle;\n",
       "    }\n",
       "\n",
       "    .dataframe tbody tr th {\n",
       "        vertical-align: top;\n",
       "    }\n",
       "\n",
       "    .dataframe thead th {\n",
       "        text-align: right;\n",
       "    }\n",
       "</style>\n",
       "<table border=\"1\" class=\"dataframe\">\n",
       "  <thead>\n",
       "    <tr style=\"text-align: right;\">\n",
       "      <th></th>\n",
       "      <th>AF3 delta std</th>\n",
       "      <th>AF3 delta m</th>\n",
       "      <th>AF3 theta std</th>\n",
       "      <th>AF3 theta m</th>\n",
       "      <th>AF3 alpha std</th>\n",
       "      <th>AF3 alpha m</th>\n",
       "      <th>AF3 beta std</th>\n",
       "      <th>AF3 beta m</th>\n",
       "      <th>F7 delta std</th>\n",
       "      <th>F7 delta m</th>\n",
       "      <th>...</th>\n",
       "      <th>F8 beta std</th>\n",
       "      <th>F8 beta m</th>\n",
       "      <th>AF4 delta std</th>\n",
       "      <th>AF4 delta m</th>\n",
       "      <th>AF4 theta std</th>\n",
       "      <th>AF4 theta m</th>\n",
       "      <th>AF4 alpha std</th>\n",
       "      <th>AF4 alpha m</th>\n",
       "      <th>AF4 beta std</th>\n",
       "      <th>AF4 beta m</th>\n",
       "    </tr>\n",
       "  </thead>\n",
       "  <tbody>\n",
       "    <tr>\n",
       "      <th>1078</th>\n",
       "      <td>3574.095680</td>\n",
       "      <td>2065.296204</td>\n",
       "      <td>0.517702</td>\n",
       "      <td>1.941888</td>\n",
       "      <td>1.211091</td>\n",
       "      <td>3.232543</td>\n",
       "      <td>1.592316</td>\n",
       "      <td>3.113107</td>\n",
       "      <td>3571.290475</td>\n",
       "      <td>2064.444293</td>\n",
       "      <td>...</td>\n",
       "      <td>16.872054</td>\n",
       "      <td>28.636549</td>\n",
       "      <td>3609.571872</td>\n",
       "      <td>2114.267121</td>\n",
       "      <td>5.087311</td>\n",
       "      <td>14.870931</td>\n",
       "      <td>7.765234</td>\n",
       "      <td>17.403950</td>\n",
       "      <td>19.897393</td>\n",
       "      <td>34.336992</td>\n",
       "    </tr>\n",
       "    <tr>\n",
       "      <th>9315</th>\n",
       "      <td>3568.159360</td>\n",
       "      <td>2064.303193</td>\n",
       "      <td>1.321949</td>\n",
       "      <td>2.089957</td>\n",
       "      <td>0.794235</td>\n",
       "      <td>2.875535</td>\n",
       "      <td>1.388899</td>\n",
       "      <td>2.154624</td>\n",
       "      <td>3563.057000</td>\n",
       "      <td>2059.753679</td>\n",
       "      <td>...</td>\n",
       "      <td>1.123161</td>\n",
       "      <td>2.045256</td>\n",
       "      <td>3566.435953</td>\n",
       "      <td>2063.155544</td>\n",
       "      <td>0.993127</td>\n",
       "      <td>1.991701</td>\n",
       "      <td>0.922759</td>\n",
       "      <td>2.547183</td>\n",
       "      <td>1.200307</td>\n",
       "      <td>2.415758</td>\n",
       "    </tr>\n",
       "    <tr>\n",
       "      <th>3299</th>\n",
       "      <td>3577.541748</td>\n",
       "      <td>2067.054387</td>\n",
       "      <td>1.090719</td>\n",
       "      <td>1.822434</td>\n",
       "      <td>0.647761</td>\n",
       "      <td>1.700022</td>\n",
       "      <td>2.720070</td>\n",
       "      <td>2.297010</td>\n",
       "      <td>3569.053561</td>\n",
       "      <td>2061.988114</td>\n",
       "      <td>...</td>\n",
       "      <td>1.699093</td>\n",
       "      <td>2.101276</td>\n",
       "      <td>3574.535162</td>\n",
       "      <td>2065.255796</td>\n",
       "      <td>0.698991</td>\n",
       "      <td>2.028724</td>\n",
       "      <td>0.331617</td>\n",
       "      <td>0.823352</td>\n",
       "      <td>1.525454</td>\n",
       "      <td>2.332374</td>\n",
       "    </tr>\n",
       "    <tr>\n",
       "      <th>7894</th>\n",
       "      <td>3567.043389</td>\n",
       "      <td>2061.850917</td>\n",
       "      <td>0.510109</td>\n",
       "      <td>1.730570</td>\n",
       "      <td>1.586239</td>\n",
       "      <td>2.672552</td>\n",
       "      <td>3.057201</td>\n",
       "      <td>4.544062</td>\n",
       "      <td>3571.331345</td>\n",
       "      <td>2064.635709</td>\n",
       "      <td>...</td>\n",
       "      <td>4.215337</td>\n",
       "      <td>6.533043</td>\n",
       "      <td>3552.229568</td>\n",
       "      <td>2055.262780</td>\n",
       "      <td>0.910970</td>\n",
       "      <td>2.404877</td>\n",
       "      <td>0.900291</td>\n",
       "      <td>1.887171</td>\n",
       "      <td>2.360740</td>\n",
       "      <td>3.740118</td>\n",
       "    </tr>\n",
       "    <tr>\n",
       "      <th>11037</th>\n",
       "      <td>3571.079404</td>\n",
       "      <td>2064.653783</td>\n",
       "      <td>1.102365</td>\n",
       "      <td>2.506902</td>\n",
       "      <td>0.769516</td>\n",
       "      <td>2.993335</td>\n",
       "      <td>1.501492</td>\n",
       "      <td>2.791681</td>\n",
       "      <td>3562.723163</td>\n",
       "      <td>2058.451663</td>\n",
       "      <td>...</td>\n",
       "      <td>0.794736</td>\n",
       "      <td>2.025611</td>\n",
       "      <td>3568.707023</td>\n",
       "      <td>2063.127625</td>\n",
       "      <td>0.477776</td>\n",
       "      <td>2.476377</td>\n",
       "      <td>0.354902</td>\n",
       "      <td>1.013045</td>\n",
       "      <td>0.979052</td>\n",
       "      <td>2.360058</td>\n",
       "    </tr>\n",
       "  </tbody>\n",
       "</table>\n",
       "<p>5 rows × 112 columns</p>\n",
       "</div>"
      ],
      "text/plain": [
       "       AF3 delta std  AF3 delta m  AF3 theta std  AF3 theta m  AF3 alpha std  \\\n",
       "1078     3574.095680  2065.296204       0.517702     1.941888       1.211091   \n",
       "9315     3568.159360  2064.303193       1.321949     2.089957       0.794235   \n",
       "3299     3577.541748  2067.054387       1.090719     1.822434       0.647761   \n",
       "7894     3567.043389  2061.850917       0.510109     1.730570       1.586239   \n",
       "11037    3571.079404  2064.653783       1.102365     2.506902       0.769516   \n",
       "\n",
       "       AF3 alpha m  AF3 beta std  AF3 beta m  F7 delta std   F7 delta m  ...  \\\n",
       "1078      3.232543      1.592316    3.113107   3571.290475  2064.444293  ...   \n",
       "9315      2.875535      1.388899    2.154624   3563.057000  2059.753679  ...   \n",
       "3299      1.700022      2.720070    2.297010   3569.053561  2061.988114  ...   \n",
       "7894      2.672552      3.057201    4.544062   3571.331345  2064.635709  ...   \n",
       "11037     2.993335      1.501492    2.791681   3562.723163  2058.451663  ...   \n",
       "\n",
       "       F8 beta std  F8 beta m  AF4 delta std  AF4 delta m  AF4 theta std  \\\n",
       "1078     16.872054  28.636549    3609.571872  2114.267121       5.087311   \n",
       "9315      1.123161   2.045256    3566.435953  2063.155544       0.993127   \n",
       "3299      1.699093   2.101276    3574.535162  2065.255796       0.698991   \n",
       "7894      4.215337   6.533043    3552.229568  2055.262780       0.910970   \n",
       "11037     0.794736   2.025611    3568.707023  2063.127625       0.477776   \n",
       "\n",
       "       AF4 theta m  AF4 alpha std  AF4 alpha m  AF4 beta std  AF4 beta m  \n",
       "1078     14.870931       7.765234    17.403950     19.897393   34.336992  \n",
       "9315      1.991701       0.922759     2.547183      1.200307    2.415758  \n",
       "3299      2.028724       0.331617     0.823352      1.525454    2.332374  \n",
       "7894      2.404877       0.900291     1.887171      2.360740    3.740118  \n",
       "11037     2.476377       0.354902     1.013045      0.979052    2.360058  \n",
       "\n",
       "[5 rows x 112 columns]"
      ]
     },
     "execution_count": 18,
     "metadata": {},
     "output_type": "execute_result"
    }
   ],
   "source": [
    "modelSVM=svm.SVC()\n",
    "modelSVM.fit(x_train,y_train)\n",
    "\n",
    "predicSVM=modelSVM.predict(x_test)\n",
    "\n",
    "y_test.head()\n",
    "x_test.head()\n",
    "\n"
>>>>>>> d21d063f5b06ecb6981449914d7ae17ffc156833
   ]
  },
  {
   "cell_type": "markdown",
   "metadata": {},
   "source": [
    "Scores"
   ]
  },
  {
   "cell_type": "code",
<<<<<<< HEAD
   "execution_count": 42,
=======
   "execution_count": 12,
>>>>>>> d21d063f5b06ecb6981449914d7ae17ffc156833
   "metadata": {},
   "outputs": [
    {
     "data": {
      "text/plain": [
<<<<<<< HEAD
       "4.33946873657991"
      ]
     },
     "execution_count": 42,
=======
       "4.339468736580954"
      ]
     },
     "execution_count": 12,
>>>>>>> d21d063f5b06ecb6981449914d7ae17ffc156833
     "metadata": {},
     "output_type": "execute_result"
    }
   ],
   "source": [
    "modelLR.score(x_test,y_test)*100"
   ]
  },
  {
   "cell_type": "code",
<<<<<<< HEAD
   "execution_count": 45,
=======
   "execution_count": 20,
>>>>>>> d21d063f5b06ecb6981449914d7ae17ffc156833
   "metadata": {},
   "outputs": [
    {
     "data": {
      "text/plain": [
<<<<<<< HEAD
       "50.04340277777778"
      ]
     },
     "execution_count": 45,
=======
       "31.42361111111111"
      ]
     },
     "execution_count": 20,
>>>>>>> d21d063f5b06ecb6981449914d7ae17ffc156833
     "metadata": {},
     "output_type": "execute_result"
    }
   ],
   "source": [
    "modelSVM.score(x_test,y_test)*100"
   ]
  },
  {
   "cell_type": "code",
<<<<<<< HEAD
   "execution_count": 47,
=======
   "execution_count": 16,
>>>>>>> d21d063f5b06ecb6981449914d7ae17ffc156833
   "metadata": {},
   "outputs": [
    {
     "name": "stdout",
     "output_type": "stream",
     "text": [
      "              precision    recall  f1-score   support\n",
      "\n",
<<<<<<< HEAD
      "         0.0       0.48      0.50      0.49       724\n",
      "         1.0       0.51      0.55      0.53       799\n",
      "         2.0       0.51      0.45      0.48       781\n",
      "\n",
      "    accuracy                           0.50      2304\n",
      "   macro avg       0.50      0.50      0.50      2304\n",
      "weighted avg       0.50      0.50      0.50      2304\n",
      "\n"
     ]
    }
   ],
   "source": [
    "print(classification_report(y_test,predictSVM))"
=======
      "         0.0       0.33      1.00      0.50      3840\n",
      "         1.0       0.00      0.00      0.00      3840\n",
      "         2.0       0.00      0.00      0.00      3840\n",
      "\n",
      "    accuracy                           0.33     11520\n",
      "   macro avg       0.11      0.33      0.17     11520\n",
      "weighted avg       0.11      0.33      0.17     11520\n",
      "\n"
     ]
    },
    {
     "name": "stderr",
     "output_type": "stream",
     "text": [
      "c:\\Users\\caiqu\\AppData\\Local\\Programs\\Python\\Python310\\lib\\site-packages\\sklearn\\metrics\\_classification.py:1334: UndefinedMetricWarning: Precision and F-score are ill-defined and being set to 0.0 in labels with no predicted samples. Use `zero_division` parameter to control this behavior.\n",
      "  _warn_prf(average, modifier, msg_start, len(result))\n",
      "c:\\Users\\caiqu\\AppData\\Local\\Programs\\Python\\Python310\\lib\\site-packages\\sklearn\\metrics\\_classification.py:1334: UndefinedMetricWarning: Precision and F-score are ill-defined and being set to 0.0 in labels with no predicted samples. Use `zero_division` parameter to control this behavior.\n",
      "  _warn_prf(average, modifier, msg_start, len(result))\n",
      "c:\\Users\\caiqu\\AppData\\Local\\Programs\\Python\\Python310\\lib\\site-packages\\sklearn\\metrics\\_classification.py:1334: UndefinedMetricWarning: Precision and F-score are ill-defined and being set to 0.0 in labels with no predicted samples. Use `zero_division` parameter to control this behavior.\n",
      "  _warn_prf(average, modifier, msg_start, len(result))\n"
     ]
    }
   ],
   "source": [
    "print(classification_report(y_test,predicSVM))"
>>>>>>> d21d063f5b06ecb6981449914d7ae17ffc156833
   ]
  },
  {
   "cell_type": "code",
<<<<<<< HEAD
   "execution_count": 49,
=======
   "execution_count": 21,
>>>>>>> d21d063f5b06ecb6981449914d7ae17ffc156833
   "metadata": {},
   "outputs": [
    {
     "name": "stdout",
     "output_type": "stream",
     "text": [
      "\n",
      "Confusion matrix\n",
<<<<<<< HEAD
      " Predito  0.0  1.0  2.0  Todos\n",
      "Real                         \n",
      "0.0      363  201  160    724\n",
      "1.0      183  442  174    799\n",
      "2.0      210  223  348    781\n",
      "Todos    756  866  682   2304\n"
=======
      " Predito   0.0  Todos\n",
      "Real                \n",
      "0.0       724    724\n",
      "1.0       799    799\n",
      "2.0       781    781\n",
      "Todos    2304   2304\n"
     ]
    },
    {
     "name": "stderr",
     "output_type": "stream",
     "text": [
      "c:\\Users\\caiqu\\AppData\\Local\\Programs\\Python\\Python310\\lib\\site-packages\\sklearn\\metrics\\_classification.py:1334: UndefinedMetricWarning: Precision and F-score are ill-defined and being set to 0.0 in labels with no predicted samples. Use `zero_division` parameter to control this behavior.\n",
      "  _warn_prf(average, modifier, msg_start, len(result))\n",
      "c:\\Users\\caiqu\\AppData\\Local\\Programs\\Python\\Python310\\lib\\site-packages\\sklearn\\metrics\\_classification.py:1334: UndefinedMetricWarning: Precision and F-score are ill-defined and being set to 0.0 in labels with no predicted samples. Use `zero_division` parameter to control this behavior.\n",
      "  _warn_prf(average, modifier, msg_start, len(result))\n",
      "c:\\Users\\caiqu\\AppData\\Local\\Programs\\Python\\Python310\\lib\\site-packages\\sklearn\\metrics\\_classification.py:1334: UndefinedMetricWarning: Precision and F-score are ill-defined and being set to 0.0 in labels with no predicted samples. Use `zero_division` parameter to control this behavior.\n",
      "  _warn_prf(average, modifier, msg_start, len(result))\n"
>>>>>>> d21d063f5b06ecb6981449914d7ae17ffc156833
     ]
    }
   ],
   "source": [
    "print(\"\\nConfusion matrix\\r\\n\",\n",
<<<<<<< HEAD
    "pd.crosstab(y_test,predictSVM,rownames=['Real'],colnames=['Predito'], margins=True, margins_name='Todos'))\n",
    "dic_SVM=metrics.classification_report(y_test,predictSVM,target_names=['0.0','1.0','2.0'], output_dict=True)"
=======
    "pd.crosstab(y_test,predicSVM,rownames=['Real'],colnames=['Predito'], margins=True, margins_name='Todos'))\n",
    "dic_SVM=metrics.classification_report(y_test,predicSVM,target_names=['0.0','1.0','2.0'], output_dict=True)"
>>>>>>> d21d063f5b06ecb6981449914d7ae17ffc156833
   ]
  }
 ],
 "metadata": {
  "kernelspec": {
<<<<<<< HEAD
   "display_name": "Python 3.9.13 64-bit (microsoft store)",
=======
   "display_name": "Python 3.10.5 64-bit",
>>>>>>> d21d063f5b06ecb6981449914d7ae17ffc156833
   "language": "python",
   "name": "python3"
  },
  "language_info": {
   "codemirror_mode": {
    "name": "ipython",
    "version": 3
   },
   "file_extension": ".py",
   "mimetype": "text/x-python",
   "name": "python",
   "nbconvert_exporter": "python",
   "pygments_lexer": "ipython3",
<<<<<<< HEAD
   "version": "3.9.13"
=======
   "version": "3.10.5"
>>>>>>> d21d063f5b06ecb6981449914d7ae17ffc156833
  },
  "orig_nbformat": 4,
  "vscode": {
   "interpreter": {
<<<<<<< HEAD
    "hash": "ea6e64f2409e8d1aad035b517afa5d7288b59435ef8e27ec4a88ca9998af4977"
=======
    "hash": "d952918e668afdb758d2ad43235d874080fe63a1668ecd32eea9b63ae2a6ea89"
>>>>>>> d21d063f5b06ecb6981449914d7ae17ffc156833
   }
  }
 },
 "nbformat": 4,
 "nbformat_minor": 2
}

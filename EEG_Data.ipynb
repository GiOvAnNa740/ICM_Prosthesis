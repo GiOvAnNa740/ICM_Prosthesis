{
 "cells": [
  {
   "cell_type": "code",
   "execution_count": 3,
   "metadata": {},
   "outputs": [],
   "source": [
    "# imports\n",
    "#python3 -m pip install --upgrade example\n",
    "\n",
    "import numpy as np\n",
    "import pandas as pd\n",
    "import os\n",
    "from tqdm import tqdm\n",
    "from sklearn.model_selection import train_test_split\n",
    "from sklearn.linear_model import LinearRegression\n",
    "from sklearn import metrics\n",
    "from sklearn import svm\n",
    "from sklearn import preprocessing\n",
    "from sklearn.metrics import classification_report\n",
    "from sklearn.metrics import confusion_matrix\n",
    "\n",
    "%matplotlib inline"
   ]
  },
  {
   "cell_type": "code",
   "execution_count": 2,
   "metadata": {},
   "outputs": [
    {
     "name": "stderr",
     "output_type": "stream",
     "text": [
      "  0%|          | 0/4 [00:00<?, ?it/s]C:\\Users\\Pichau\\AppData\\Local\\Temp\\ipykernel_11128\\1304392739.py:6: FutureWarning: The frame.append method is deprecated and will be removed from pandas in a future version. Use pandas.concat instead.\n",
      "  EEG_Data = EEG_Data.append(temp_df)\n",
      " 25%|██▌       | 1/4 [00:00<00:00,  7.99it/s]C:\\Users\\Pichau\\AppData\\Local\\Temp\\ipykernel_11128\\1304392739.py:6: FutureWarning: The frame.append method is deprecated and will be removed from pandas in a future version. Use pandas.concat instead.\n",
      "  EEG_Data = EEG_Data.append(temp_df)\n",
      " 50%|█████     | 2/4 [00:00<00:00,  7.91it/s]C:\\Users\\Pichau\\AppData\\Local\\Temp\\ipykernel_11128\\1304392739.py:6: FutureWarning: The frame.append method is deprecated and will be removed from pandas in a future version. Use pandas.concat instead.\n",
      "  EEG_Data = EEG_Data.append(temp_df)\n",
      " 75%|███████▌  | 3/4 [00:00<00:00,  7.61it/s]C:\\Users\\Pichau\\AppData\\Local\\Temp\\ipykernel_11128\\1304392739.py:6: FutureWarning: The frame.append method is deprecated and will be removed from pandas in a future version. Use pandas.concat instead.\n",
      "  EEG_Data = EEG_Data.append(temp_df)\n",
      "100%|██████████| 4/4 [00:00<00:00,  7.87it/s]\n"
     ]
    }
   ],
   "source": [
    "filenames_list = os.listdir('EEG_Data_handMovements') #lists all files on directory\n",
    "EEG_Data = pd.DataFrame({}) #creates empty df\n",
    "\n",
    "for file_name in tqdm(filenames_list): # adds each file from directory on temporary df\n",
    "    temp_df = pd.read_csv('EEG_Data_handMovements/'+file_name)\n",
    "    EEG_Data = EEG_Data.append(temp_df) \n",
    "\n",
    "EEG_Data.to_csv('users.csv') "
   ]
  },
  {
   "cell_type": "code",
   "execution_count": 5,
   "metadata": {},
   "outputs": [],
   "source": [
    "#Weighted average \n",
    "df_std = EEG_Data[EEG_Data.columns.drop(list(EEG_Data.filter(regex='m')))] #dropping all columns with mean values 'm'\n",
    "df_std.columns\n",
    "\n",
    "df_std.to_csv('weighted_avg.csv') "
   ]
  },
  {
   "cell_type": "code",
   "execution_count": 4,
   "metadata": {},
   "outputs": [],
   "source": [
    "#Mean average \n",
    "df_m = EEG_Data[EEG_Data.columns.drop(list(EEG_Data.filter(regex='std')))]\n",
    "df_m.columns\n",
    "\n",
    "df_m.to_csv('mean_avg.csv') "
   ]
  },
  {
   "cell_type": "code",
   "execution_count": 34,
   "metadata": {},
   "outputs": [],
   "source": [
    "EEG_Data.head() #visualize\n",
    "EEG_Data.columns  \n",
    "\n",
    "all_columns=['Class','AF3 delta std','AF3 delta m','AF3 theta std','AF3 theta m','AF3 alpha std','AF3 alpha m','AF3 beta std','AF3 beta m','F7 delta std','F7 delta m','F7 theta std','F7 theta m','F7 alpha std','F7 alpha m','F7 beta std','F7 beta m','F3 delta std','F3 delta m','F3 theta std','F3 theta m','F3 alpha std','F3 alpha m','F3 beta std','F3 beta m','FC5 delta std','FC5 delta m','FC5 theta std','FC5 theta m','FC5 alpha std','FC5 alpha m','FC5 beta std','FC5 beta m','T7 delta std','T7 delta m','T7 theta std','T7 theta m','T7 alpha std','T7 alpha m','T7 beta std','T7 beta m','P7 delta std','P7 delta m','P7 theta std','P7 theta m','P7 alpha std','P7 alpha m','P7 beta std','P7 beta m','O1 delta std','O1 delta m','O1 theta std','O1 theta m','O1 alpha std','O1 alpha m','O1 beta std','O1 beta m','O2 delta std','O2 delta m','O2 theta std','O2 theta m','O2 alpha std','O2 alpha m','O2 beta std','O2 beta m','P8 delta std','P8 delta m','P8 theta std','P8 theta m','P8 alpha std','P8 alpha m','P8 beta std','P8 beta m','T8 delta std','T8 delta m','T8 theta std','T8 theta m','T8 alpha std','T8 alpha m','T8 beta std','T8 beta m','FC6 delta std','FC6 delta m','FC6 theta std','FC6 theta m','FC6 alpha std','FC6 alpha m','FC6 beta std','FC6 beta m','F4 delta std','F4 delta m','F4 theta std','F4 theta m','F4 alpha std','F4 alpha m','F4 beta std','F4 beta m','F8 delta std','F8 delta_m','F8 theta std','F8 theta m','F8 alpha std','F8 alpha m','F8 beta std','F8 beta m','AF4 delta std','AF4 delta m','AF4 theta std','AF4 theta m','AF4 alpha std','AF4 alpha m','AF4 beta std','AF4 beta m']\n",
    "column_names=['AF3 delta std','AF3 delta m','AF3 theta std','AF3 theta m','AF3 alpha std','AF3 alpha m','AF3 beta std','AF3 beta m','F7 delta std','F7 delta m','F7 theta std','F7 theta m','F7 alpha std','F7 alpha m','F7 beta std','F7 beta m','F3 delta std','F3 delta m','F3 theta std','F3 theta m','F3 alpha std','F3 alpha m','F3 beta std','F3 beta m','FC5 delta std','FC5 delta m','FC5 theta std','FC5 theta m','FC5 alpha std','FC5 alpha m','FC5 beta std','FC5 beta m','T7 delta std','T7 delta m','T7 theta std','T7 theta m','T7 alpha std','T7 alpha m','T7 beta std','T7 beta m','P7 delta std','P7 delta m','P7 theta std','P7 theta m','P7 alpha std','P7 alpha m','P7 beta std','P7 beta m','O1 delta std','O1 delta m','O1 theta std','O1 theta m','O1 alpha std','O1 alpha m','O1 beta std','O1 beta m','O2 delta std','O2 delta m','O2 theta std','O2 theta m','O2 alpha std','O2 alpha m','O2 beta std','O2 beta m','P8 delta std','P8 delta m','P8 theta std','P8 theta m','P8 alpha std','P8 alpha m','P8 beta std','P8 beta m','T8 delta std','T8 delta m','T8 theta std','T8 theta m','T8 alpha std','T8 alpha m','T8 beta std','T8 beta m','FC6 delta std','FC6 delta m','FC6 theta std','FC6 theta m','FC6 alpha std','FC6 alpha m','FC6 beta std','FC6 beta m','F4 delta std','F4 delta m','F4 theta std','F4 theta m','F4 alpha std','F4 alpha m','F4 beta std','F4 beta m','F8 delta std','F8 delta_m','F8 theta std','F8 theta m','F8 alpha std','F8 alpha m','F8 beta std','F8 beta m','AF4 delta std','AF4 delta m','AF4 theta std','AF4 theta m','AF4 alpha std','AF4 alpha m','AF4 beta std','AF4 beta m']"
   ]
  },
  {
   "cell_type": "code",
   "execution_count": null,
   "metadata": {},
   "outputs": [],
   "source": [
    "df_m.head()"
   ]
  },
  {
   "cell_type": "code",
   "execution_count": null,
   "metadata": {},
   "outputs": [],
   "source": [
    "df_std.head()"
   ]
  },
  {
   "cell_type": "code",
   "execution_count": 35,
   "metadata": {},
   "outputs": [
    {
     "data": {
      "text/html": [
       "<div>\n",
       "<style scoped>\n",
       "    .dataframe tbody tr th:only-of-type {\n",
       "        vertical-align: middle;\n",
       "    }\n",
       "\n",
       "    .dataframe tbody tr th {\n",
       "        vertical-align: top;\n",
       "    }\n",
       "\n",
       "    .dataframe thead th {\n",
       "        text-align: right;\n",
       "    }\n",
       "</style>\n",
       "<table border=\"1\" class=\"dataframe\">\n",
       "  <thead>\n",
       "    <tr style=\"text-align: right;\">\n",
       "      <th></th>\n",
       "      <th>Class</th>\n",
       "      <th>AF3 delta std</th>\n",
       "      <th>AF3 delta m</th>\n",
       "      <th>AF3 theta std</th>\n",
       "      <th>AF3 theta m</th>\n",
       "      <th>AF3 alpha std</th>\n",
       "      <th>AF3 alpha m</th>\n",
       "      <th>AF3 beta std</th>\n",
       "      <th>AF3 beta m</th>\n",
       "      <th>F7 delta std</th>\n",
       "      <th>...</th>\n",
       "      <th>F8 beta std</th>\n",
       "      <th>F8 beta m</th>\n",
       "      <th>AF4 delta std</th>\n",
       "      <th>AF4 delta m</th>\n",
       "      <th>AF4 theta std</th>\n",
       "      <th>AF4 theta m</th>\n",
       "      <th>AF4 alpha std</th>\n",
       "      <th>AF4 alpha m</th>\n",
       "      <th>AF4 beta std</th>\n",
       "      <th>AF4 beta m</th>\n",
       "    </tr>\n",
       "  </thead>\n",
       "  <tbody>\n",
       "    <tr>\n",
       "      <th>0</th>\n",
       "      <td>1.0</td>\n",
       "      <td>0.009311</td>\n",
       "      <td>0.009313</td>\n",
       "      <td>0.012881</td>\n",
       "      <td>0.015021</td>\n",
       "      <td>0.004803</td>\n",
       "      <td>0.011879</td>\n",
       "      <td>0.005595</td>\n",
       "      <td>0.009634</td>\n",
       "      <td>0.009305</td>\n",
       "      <td>...</td>\n",
       "      <td>0.024823</td>\n",
       "      <td>0.036521</td>\n",
       "      <td>0.009635</td>\n",
       "      <td>0.009790</td>\n",
       "      <td>0.038013</td>\n",
       "      <td>0.033612</td>\n",
       "      <td>0.031620</td>\n",
       "      <td>0.034734</td>\n",
       "      <td>0.021723</td>\n",
       "      <td>0.032796</td>\n",
       "    </tr>\n",
       "    <tr>\n",
       "      <th>1</th>\n",
       "      <td>1.0</td>\n",
       "      <td>0.009309</td>\n",
       "      <td>0.009309</td>\n",
       "      <td>0.014605</td>\n",
       "      <td>0.012602</td>\n",
       "      <td>0.011903</td>\n",
       "      <td>0.007337</td>\n",
       "      <td>0.005365</td>\n",
       "      <td>0.007428</td>\n",
       "      <td>0.009304</td>\n",
       "      <td>...</td>\n",
       "      <td>0.019955</td>\n",
       "      <td>0.033712</td>\n",
       "      <td>0.009698</td>\n",
       "      <td>0.009779</td>\n",
       "      <td>0.018431</td>\n",
       "      <td>0.030900</td>\n",
       "      <td>0.038725</td>\n",
       "      <td>0.024312</td>\n",
       "      <td>0.018099</td>\n",
       "      <td>0.030079</td>\n",
       "    </tr>\n",
       "    <tr>\n",
       "      <th>2</th>\n",
       "      <td>1.0</td>\n",
       "      <td>0.009308</td>\n",
       "      <td>0.009306</td>\n",
       "      <td>0.021534</td>\n",
       "      <td>0.008701</td>\n",
       "      <td>0.010227</td>\n",
       "      <td>0.007751</td>\n",
       "      <td>0.003857</td>\n",
       "      <td>0.006588</td>\n",
       "      <td>0.009303</td>\n",
       "      <td>...</td>\n",
       "      <td>0.022249</td>\n",
       "      <td>0.033654</td>\n",
       "      <td>0.009696</td>\n",
       "      <td>0.009764</td>\n",
       "      <td>0.037944</td>\n",
       "      <td>0.019194</td>\n",
       "      <td>0.028406</td>\n",
       "      <td>0.016154</td>\n",
       "      <td>0.020282</td>\n",
       "      <td>0.030218</td>\n",
       "    </tr>\n",
       "    <tr>\n",
       "      <th>3</th>\n",
       "      <td>1.0</td>\n",
       "      <td>0.009307</td>\n",
       "      <td>0.009305</td>\n",
       "      <td>0.016791</td>\n",
       "      <td>0.012202</td>\n",
       "      <td>0.005746</td>\n",
       "      <td>0.008530</td>\n",
       "      <td>0.003362</td>\n",
       "      <td>0.006515</td>\n",
       "      <td>0.009302</td>\n",
       "      <td>...</td>\n",
       "      <td>0.020787</td>\n",
       "      <td>0.032193</td>\n",
       "      <td>0.009699</td>\n",
       "      <td>0.009765</td>\n",
       "      <td>0.041242</td>\n",
       "      <td>0.023967</td>\n",
       "      <td>0.031201</td>\n",
       "      <td>0.021241</td>\n",
       "      <td>0.018423</td>\n",
       "      <td>0.028991</td>\n",
       "    </tr>\n",
       "    <tr>\n",
       "      <th>4</th>\n",
       "      <td>1.0</td>\n",
       "      <td>0.009301</td>\n",
       "      <td>0.009309</td>\n",
       "      <td>0.012969</td>\n",
       "      <td>0.011437</td>\n",
       "      <td>0.006184</td>\n",
       "      <td>0.007106</td>\n",
       "      <td>0.003643</td>\n",
       "      <td>0.005571</td>\n",
       "      <td>0.009302</td>\n",
       "      <td>...</td>\n",
       "      <td>0.019303</td>\n",
       "      <td>0.032504</td>\n",
       "      <td>0.009692</td>\n",
       "      <td>0.009723</td>\n",
       "      <td>0.017613</td>\n",
       "      <td>0.021440</td>\n",
       "      <td>0.029478</td>\n",
       "      <td>0.029471</td>\n",
       "      <td>0.015913</td>\n",
       "      <td>0.029850</td>\n",
       "    </tr>\n",
       "  </tbody>\n",
       "</table>\n",
       "<p>5 rows × 113 columns</p>\n",
       "</div>"
      ],
      "text/plain": [
       "   Class  AF3 delta std  AF3 delta m  AF3 theta std  AF3 theta m  \\\n",
       "0    1.0       0.009311     0.009313       0.012881     0.015021   \n",
       "1    1.0       0.009309     0.009309       0.014605     0.012602   \n",
       "2    1.0       0.009308     0.009306       0.021534     0.008701   \n",
       "3    1.0       0.009307     0.009305       0.016791     0.012202   \n",
       "4    1.0       0.009301     0.009309       0.012969     0.011437   \n",
       "\n",
       "   AF3 alpha std  AF3 alpha m  AF3 beta std  AF3 beta m  F7 delta std  ...  \\\n",
       "0       0.004803     0.011879      0.005595    0.009634      0.009305  ...   \n",
       "1       0.011903     0.007337      0.005365    0.007428      0.009304  ...   \n",
       "2       0.010227     0.007751      0.003857    0.006588      0.009303  ...   \n",
       "3       0.005746     0.008530      0.003362    0.006515      0.009302  ...   \n",
       "4       0.006184     0.007106      0.003643    0.005571      0.009302  ...   \n",
       "\n",
       "   F8 beta std  F8 beta m  AF4 delta std  AF4 delta m  AF4 theta std  \\\n",
       "0     0.024823   0.036521       0.009635     0.009790       0.038013   \n",
       "1     0.019955   0.033712       0.009698     0.009779       0.018431   \n",
       "2     0.022249   0.033654       0.009696     0.009764       0.037944   \n",
       "3     0.020787   0.032193       0.009699     0.009765       0.041242   \n",
       "4     0.019303   0.032504       0.009692     0.009723       0.017613   \n",
       "\n",
       "   AF4 theta m  AF4 alpha std  AF4 alpha m  AF4 beta std  AF4 beta m  \n",
       "0     0.033612       0.031620     0.034734      0.021723    0.032796  \n",
       "1     0.030900       0.038725     0.024312      0.018099    0.030079  \n",
       "2     0.019194       0.028406     0.016154      0.020282    0.030218  \n",
       "3     0.023967       0.031201     0.021241      0.018423    0.028991  \n",
       "4     0.021440       0.029478     0.029471      0.015913    0.029850  \n",
       "\n",
       "[5 rows x 113 columns]"
      ]
     },
     "execution_count": 35,
     "metadata": {},
     "output_type": "execute_result"
    }
   ],
   "source": [
    "#Data normalization\n",
    "\n",
    "EEG_Data[column_names] = preprocessing.normalize(EEG_Data[column_names], axis=0)\n",
    "df = pd.DataFrame(EEG_Data, columns=all_columns)\n",
    "df.head()\n",
    "\n"
   ]
  },
  {
   "cell_type": "code",
   "execution_count": 59,
   "metadata": {},
   "outputs": [],
   "source": [
    "df.to_csv('normalized_EEG') "
   ]
  },
  {
   "cell_type": "code",
   "execution_count": 36,
   "metadata": {},
   "outputs": [],
   "source": [
    "#creating x and y training sets\n",
    "\n",
    "x = df[['AF3 delta std','AF3 delta m','AF3 theta std','AF3 theta m','AF3 alpha std','AF3 alpha m','AF3 beta std','AF3 beta m','F7 delta std','F7 delta m','F7 theta std','F7 theta m','F7 alpha std','F7 alpha m','F7 beta std','F7 beta m','F3 delta std','F3 delta m','F3 theta std','F3 theta m','F3 alpha std','F3 alpha m','F3 beta std','F3 beta m','FC5 delta std','FC5 delta m','FC5 theta std','FC5 theta m','FC5 alpha std','FC5 alpha m','FC5 beta std','FC5 beta m','T7 delta std','T7 delta m','T7 theta std','T7 theta m','T7 alpha std','T7 alpha m','T7 beta std','T7 beta m','P7 delta std','P7 delta m','P7 theta std','P7 theta m','P7 alpha std','P7 alpha m','P7 beta std','P7 beta m','O1 delta std','O1 delta m','O1 theta std','O1 theta m','O1 alpha std','O1 alpha m','O1 beta std','O1 beta m','O2 delta std','O2 delta m','O2 theta std','O2 theta m','O2 alpha std','O2 alpha m','O2 beta std','O2 beta m','P8 delta std','P8 delta m','P8 theta std','P8 theta m','P8 alpha std','P8 alpha m','P8 beta std','P8 beta m','T8 delta std','T8 delta m','T8 theta std','T8 theta m','T8 alpha std','T8 alpha m','T8 beta std','T8 beta m','FC6 delta std','FC6 delta m','FC6 theta std','FC6 theta m','FC6 alpha std','FC6 alpha m','FC6 beta std','FC6 beta m','F4 delta std','F4 delta m','F4 theta std','F4 theta m','F4 alpha std','F4 alpha m','F4 beta std','F4 beta m','F8 delta std','F8 delta_m','F8 theta std','F8 theta m','F8 alpha std','F8 alpha m','F8 beta std','F8 beta m','AF4 delta std','AF4 delta m','AF4 theta std','AF4 theta m','AF4 alpha std','AF4 alpha m','AF4 beta std','AF4 beta m']]\n",
    "y = df['Class']"
   ]
  },
  {
   "cell_type": "code",
   "execution_count": 9,
   "metadata": {},
   "outputs": [],
   "source": [
    "#creating x and y training sets\n",
    "#WEIGHTED AVERAGE\n",
    "\n",
    "x_std = df_std[['AF3 delta std', 'AF3 theta std', 'AF3 alpha std',\n",
    "       'AF3 beta std', 'F7 delta std', 'F7 theta std', 'F7 alpha std',\n",
    "       'F7 beta std', 'F3 delta std', 'F3 theta std', 'F3 alpha std',\n",
    "       'F3 beta std', 'FC5 delta std', 'FC5 theta std', 'FC5 alpha std',\n",
    "       'FC5 beta std', 'T7 delta std', 'T7 theta std', 'T7 alpha std',\n",
    "       'T7 beta std', 'P7 delta std', 'P7 theta std', 'P7 alpha std',\n",
    "       'P7 beta std', 'O1 delta std', 'O1 theta std', 'O1 alpha std',\n",
    "       'O1 beta std', 'O2 delta std', 'O2 theta std', 'O2 alpha std',\n",
    "       'O2 beta std', 'P8 delta std', 'P8 theta std', 'P8 alpha std',\n",
    "       'P8 beta std', 'T8 delta std', 'T8 theta std', 'T8 alpha std',\n",
    "       'T8 beta std', 'FC6 delta std', 'FC6 theta std', 'FC6 alpha std',\n",
    "       'FC6 beta std', 'F4 delta std', 'F4 theta std', 'F4 alpha std',\n",
    "       'F4 beta std', 'F8 delta std', 'F8 theta std', 'F8 alpha std',\n",
    "       'F8 beta std', 'AF4 delta std', 'AF4 theta std', 'AF4 alpha std',\n",
    "       'AF4 beta std']]\n",
    "y_std = df_std['Class']"
   ]
  },
  {
   "cell_type": "code",
   "execution_count": 10,
   "metadata": {},
   "outputs": [],
   "source": [
    "#creating x and y training sets\n",
    "#Mean average\n",
    "\n",
    "x_m = df_m[['AF3 delta m', 'AF3 theta m', 'AF3 alpha m', 'AF3 beta m',\n",
    "       'F7 delta m', 'F7 theta m', 'F7 alpha m', 'F7 beta m', 'F3 delta m',\n",
    "       'F3 theta m', 'F3 alpha m', 'F3 beta m', 'FC5 delta m', 'FC5 theta m',\n",
    "       'FC5 alpha m', 'FC5 beta m', 'T7 delta m', 'T7 theta m', 'T7 alpha m',\n",
    "       'T7 beta m', 'P7 delta m', 'P7 theta m', 'P7 alpha m', 'P7 beta m',\n",
    "       'O1 delta m', 'O1 theta m', 'O1 alpha m', 'O1 beta m', 'O2 delta m',\n",
    "       'O2 theta m', 'O2 alpha m', 'O2 beta m', 'P8 delta m', 'P8 theta m',\n",
    "       'P8 alpha m', 'P8 beta m', 'T8 delta m', 'T8 theta m', 'T8 alpha m',\n",
    "       'T8 beta m', 'FC6 delta m', 'FC6 theta m', 'FC6 alpha m', 'FC6 beta m',\n",
    "       'F4 delta m', 'F4 theta m', 'F4 alpha m', 'F4 beta m', 'F8 delta_m',\n",
    "       'F8 theta m', 'F8 alpha m', 'F8 beta m', 'AF4 delta m', 'AF4 theta m',\n",
    "       'AF4 alpha m', 'AF4 beta m']]\n",
    "y_m = df_m['Class']"
   ]
  },
  {
   "cell_type": "code",
   "execution_count": 37,
   "metadata": {},
   "outputs": [],
   "source": [
    "x_train, x_test, y_train, y_test = train_test_split(x,y,test_size=0.2,random_state=42)  #Train and test split\n",
    "\n",
    "#x_train, x_test, y_train, y_test = train_test_split(x_m,y_m,test_size=0.3, random_state=42) \n",
    "\n",
    "#x_train, x_test, y_train, y_test = train_test_split(x_std,y_std,test_size=0.3, random_state=42) \n"
   ]
  },
  {
   "cell_type": "markdown",
   "metadata": {},
   "source": [
    "Linear Regression"
   ]
  },
  {
   "cell_type": "code",
   "execution_count": 38,
   "metadata": {},
   "outputs": [
    {
     "data": {
      "text/html": [
       "<div>\n",
       "<style scoped>\n",
       "    .dataframe tbody tr th:only-of-type {\n",
       "        vertical-align: middle;\n",
       "    }\n",
       "\n",
       "    .dataframe tbody tr th {\n",
       "        vertical-align: top;\n",
       "    }\n",
       "\n",
       "    .dataframe thead th {\n",
       "        text-align: right;\n",
       "    }\n",
       "</style>\n",
       "<table border=\"1\" class=\"dataframe\">\n",
       "  <thead>\n",
       "    <tr style=\"text-align: right;\">\n",
       "      <th></th>\n",
       "      <th>Coefficient</th>\n",
       "    </tr>\n",
       "  </thead>\n",
       "  <tbody>\n",
       "    <tr>\n",
       "      <th>AF3 delta std</th>\n",
       "      <td>5449.995251</td>\n",
       "    </tr>\n",
       "    <tr>\n",
       "      <th>AF3 delta m</th>\n",
       "      <td>-6962.755495</td>\n",
       "    </tr>\n",
       "    <tr>\n",
       "      <th>AF3 theta std</th>\n",
       "      <td>-1.526025</td>\n",
       "    </tr>\n",
       "    <tr>\n",
       "      <th>AF3 theta m</th>\n",
       "      <td>-1.247366</td>\n",
       "    </tr>\n",
       "    <tr>\n",
       "      <th>AF3 alpha std</th>\n",
       "      <td>-0.178132</td>\n",
       "    </tr>\n",
       "    <tr>\n",
       "      <th>...</th>\n",
       "      <td>...</td>\n",
       "    </tr>\n",
       "    <tr>\n",
       "      <th>AF4 theta m</th>\n",
       "      <td>32.782563</td>\n",
       "    </tr>\n",
       "    <tr>\n",
       "      <th>AF4 alpha std</th>\n",
       "      <td>1.314153</td>\n",
       "    </tr>\n",
       "    <tr>\n",
       "      <th>AF4 alpha m</th>\n",
       "      <td>11.533760</td>\n",
       "    </tr>\n",
       "    <tr>\n",
       "      <th>AF4 beta std</th>\n",
       "      <td>-225.769615</td>\n",
       "    </tr>\n",
       "    <tr>\n",
       "      <th>AF4 beta m</th>\n",
       "      <td>-2.923390</td>\n",
       "    </tr>\n",
       "  </tbody>\n",
       "</table>\n",
       "<p>112 rows × 1 columns</p>\n",
       "</div>"
      ],
      "text/plain": [
       "               Coefficient\n",
       "AF3 delta std  5449.995251\n",
       "AF3 delta m   -6962.755495\n",
       "AF3 theta std    -1.526025\n",
       "AF3 theta m      -1.247366\n",
       "AF3 alpha std    -0.178132\n",
       "...                    ...\n",
       "AF4 theta m      32.782563\n",
       "AF4 alpha std     1.314153\n",
       "AF4 alpha m      11.533760\n",
       "AF4 beta std   -225.769615\n",
       "AF4 beta m       -2.923390\n",
       "\n",
       "[112 rows x 1 columns]"
      ]
     },
     "execution_count": 38,
     "metadata": {},
     "output_type": "execute_result"
    }
   ],
   "source": [
    "#training model \n",
    "modelLR = LinearRegression()\n",
    "modelLR=modelLR.fit(x_train,y_train)\n",
    "\n",
    "coeff = pd.DataFrame(modelLR.coef_,x.columns,columns=['Coefficient'])\n",
    "coeff"
   ]
  },
  {
   "cell_type": "code",
   "execution_count": 39,
   "metadata": {},
   "outputs": [
    {
     "data": {
      "text/plain": [
       "1078    1.0\n",
       "675     2.0\n",
       "419     0.0\n",
       "2134    2.0\n",
       "2397    0.0\n",
       "Name: Class, dtype: float64"
      ]
     },
     "execution_count": 39,
     "metadata": {},
     "output_type": "execute_result"
    }
   ],
   "source": [
    "predictionsLR = modelLR.predict(x_test)\n",
    "\n",
    "predictionsLR\n",
    "\n",
    "y_test.head()"
   ]
  },
  {
   "cell_type": "code",
   "execution_count": 40,
   "metadata": {},
   "outputs": [
    {
     "name": "stdout",
     "output_type": "stream",
     "text": [
      "MAE:  0.6658677599904548\n",
      "MSE:  0.6242803960738186\n",
      "RMSE:  0.790114166480907\n"
     ]
    }
   ],
   "source": [
    "#error means\n",
    "print('MAE: ', metrics.mean_absolute_error(y_test,predictionsLR))\n",
    "print('MSE: ', metrics.mean_squared_error(y_test,predictionsLR))\n",
    "print('RMSE: ', np.sqrt(metrics.mean_squared_error(y_test,predictionsLR)))"
   ]
  },
  {
   "cell_type": "markdown",
   "metadata": {},
   "source": [
    "SVM"
   ]
  },
  {
   "cell_type": "code",
   "execution_count": 44,
   "metadata": {},
   "outputs": [],
   "source": [
    "modelSVM=svm.SVC()\n",
    "modelSVM.fit(x_train,y_train)\n",
    "predictSVM = modelSVM.predict(x_test)"
   ]
  },
  {
   "cell_type": "markdown",
   "metadata": {},
   "source": [
    "Scores"
   ]
  },
  {
   "cell_type": "code",
   "execution_count": 42,
   "metadata": {},
   "outputs": [
    {
     "data": {
      "text/plain": [
       "4.33946873657991"
      ]
     },
     "execution_count": 42,
     "metadata": {},
     "output_type": "execute_result"
    }
   ],
   "source": [
    "modelLR.score(x_test,y_test)*100"
   ]
  },
  {
   "cell_type": "code",
   "execution_count": 45,
   "metadata": {},
   "outputs": [
    {
     "data": {
      "text/plain": [
       "50.04340277777778"
      ]
     },
     "execution_count": 45,
     "metadata": {},
     "output_type": "execute_result"
    }
   ],
   "source": [
    "modelSVM.score(x_test,y_test)*100"
   ]
  },
  {
   "cell_type": "code",
   "execution_count": 47,
   "metadata": {},
   "outputs": [
    {
     "name": "stdout",
     "output_type": "stream",
     "text": [
      "              precision    recall  f1-score   support\n",
      "\n",
      "         0.0       0.48      0.50      0.49       724\n",
      "         1.0       0.51      0.55      0.53       799\n",
      "         2.0       0.51      0.45      0.48       781\n",
      "\n",
      "    accuracy                           0.50      2304\n",
      "   macro avg       0.50      0.50      0.50      2304\n",
      "weighted avg       0.50      0.50      0.50      2304\n",
      "\n"
     ]
    }
   ],
   "source": [
    "print(classification_report(y_test,predictSVM))"
   ]
  },
  {
   "cell_type": "code",
   "execution_count": 49,
   "metadata": {},
   "outputs": [
    {
     "name": "stdout",
     "output_type": "stream",
     "text": [
      "\n",
      "Confusion matrix\n",
      " Predito  0.0  1.0  2.0  Todos\n",
      "Real                         \n",
      "0.0      363  201  160    724\n",
      "1.0      183  442  174    799\n",
      "2.0      210  223  348    781\n",
      "Todos    756  866  682   2304\n"
     ]
    }
   ],
   "source": [
    "print(\"\\nMatriz de Confusão\\r\\n\",\n",
    "pd.crosstab(y_test,predictSVM,rownames=['Real'],colnames=['Predito'], margins=True, margins_name='Todos'))\n",
    "dic_SVM=metrics.classification_report(y_test,predictSVM,target_names=['0.0','1.0','2.0'], output_dict=True)"
   ]
  }
 ],
 "metadata": {
  "kernelspec": {
   "display_name": "Python 3.9.13 64-bit (microsoft store)",
   "language": "python",
   "name": "python3"
  },
  "language_info": {
   "codemirror_mode": {
    "name": "ipython",
    "version": 3
   },
   "file_extension": ".py",
   "mimetype": "text/x-python",
   "name": "python",
   "nbconvert_exporter": "python",
   "pygments_lexer": "ipython3",
   "version": "3.9.13"
  },
  "orig_nbformat": 4,
  "vscode": {
   "interpreter": {
    "hash": "ea6e64f2409e8d1aad035b517afa5d7288b59435ef8e27ec4a88ca9998af4977"
   }
  }
 },
 "nbformat": 4,
 "nbformat_minor": 2
}
